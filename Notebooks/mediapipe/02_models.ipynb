{
  "nbformat": 4,
  "nbformat_minor": 0,
  "metadata": {
    "colab": {
      "name": "Copy of media_models.ipynb",
      "provenance": [],
      "collapsed_sections": [
        "6JavhCARgXmh"
      ]
    },
    "kernelspec": {
      "name": "python3",
      "display_name": "Python 3"
    },
    "language_info": {
      "name": "python"
    }
  },
  "cells": [
    {
      "cell_type": "markdown",
      "metadata": {
        "id": "view-in-github"
      },
      "source": [
        "<a href=\"https://colab.research.google.com/github/Yassmina-Abdo/realtime-head-pose-estimation/blob/main/Notebooks/models.ipynb\" target=\"_parent\"><img src=\"https://colab.research.google.com/assets/colab-badge.svg\" alt=\"Open In Colab\"/></a>"
      ]
    },
    {
      "cell_type": "code",
      "execution_count": 2,
      "metadata": {
        "id": "thCx11OGA9re",
        "colab": {
          "base_uri": "https://localhost:8080/"
        },
        "outputId": "88ebd018-79da-4dda-a887-7b06acc324e7"
      },
      "outputs": [
        {
          "output_type": "stream",
          "name": "stdout",
          "text": [
            "Drive already mounted at /content/drive; to attempt to forcibly remount, call drive.mount(\"/content/drive\", force_remount=True).\n"
          ]
        }
      ],
      "source": [
        "from google.colab import drive\n",
        "drive.mount('/content/drive')"
      ]
    },
    {
      "cell_type": "markdown",
      "source": [
        "## Liberaries"
      ],
      "metadata": {
        "id": "JIkUGP5zgFLZ"
      }
    },
    {
      "cell_type": "code",
      "source": [
        "import numpy as np\n",
        "import pickle\n",
        "import pandas as pd\n",
        "from sklearn.datasets import make_regression\n",
        "from sklearn.model_selection import train_test_split\n",
        "from sklearn.multioutput import MultiOutputRegressor\n",
        "from sklearn.ensemble import RandomForestRegressor\n",
        "from sklearn.svm import LinearSVR, SVR,SVC\n",
        "from sklearn.preprocessing import MinMaxScaler,StandardScaler\n",
        "from sklearn.metrics import mean_squared_error,mean_absolute_error, r2_score\n",
        "from sklearn.decomposition import PCA\n",
        "import matplotlib.pyplot as plt\n",
        "from matplotlib.pyplot import figure"
      ],
      "metadata": {
        "id": "9C1KQNDYBwAC"
      },
      "execution_count": 78,
      "outputs": []
    },
    {
      "cell_type": "markdown",
      "source": [
        "## Reading the prepared dataset and split it"
      ],
      "metadata": {
        "id": "rePFWZ7DgJ4R"
      }
    },
    {
      "cell_type": "code",
      "source": [
        "path_local='../Data/media_with_angles.csv'\n",
        "path_drive='/content/drive/MyDrive/Head Pose Estimation ML Project/Dataset/Data/data468_normed_low.csv'\n",
        "data =pd.read_csv(path_drive)\n",
        "data.head()"
      ],
      "metadata": {
        "colab": {
          "base_uri": "https://localhost:8080/",
          "height": 279
        },
        "id": "720EacvKK8kk",
        "outputId": "2b497f7e-7ab7-47c7-bd31-60dd8599bb96"
      },
      "execution_count": 79,
      "outputs": [
        {
          "output_type": "execute_result",
          "data": {
            "text/plain": [
              "    x1        x2        x3        x4        x5        x6        x7        x8  \\\n",
              "0  0.0  0.768221  0.042679  0.298753  0.896258  0.768221  0.256074 -2.987527   \n",
              "1  0.0 -0.119313 -0.053028 -0.198854 -0.132570 -0.132570 -0.092799 -0.755647   \n",
              "2  0.0 -0.257694  0.000000 -0.227377 -0.303170 -0.257694 -0.090951 -0.212219   \n",
              "3  0.0 -0.011573  0.023147 -0.081013  0.000000  0.000000  0.046293 -0.763836   \n",
              "4  0.0  0.126856  0.063428  0.047571  0.158570  0.174427  0.206142 -0.856280   \n",
              "\n",
              "         x9       x10  ...  y463   y464  y465  y466   y467   y468       yaw  \\\n",
              "0  0.256074  0.384111  ... -22.0  -86.0 -83.0 -80.0  -91.0  -95.0  0.725284   \n",
              "1 -0.106056 -0.119313  ... -15.0  -74.0 -72.0 -70.0  -84.0  -86.0 -0.233745   \n",
              "2 -0.090951 -0.151585  ... -23.0  -76.0 -72.0 -70.0  -86.0  -92.0 -1.330352   \n",
              "3  0.057866  0.057866  ... -21.0 -105.0 -99.0 -94.0 -121.0 -125.0 -0.040907   \n",
              "4  0.237856  0.269570  ... -24.0  -94.0 -91.0 -88.0  -99.0 -102.0  0.205732   \n",
              "\n",
              "      pitch      roll  image_name  \n",
              "0 -0.140406 -0.174674  image03195  \n",
              "1 -0.116700  0.095809  image03247  \n",
              "2  0.003072  0.362599  image03214  \n",
              "3 -0.474087  0.019801  image03238  \n",
              "4 -0.241359 -0.150232  image03236  \n",
              "\n",
              "[5 rows x 940 columns]"
            ],
            "text/html": [
              "\n",
              "  <div id=\"df-9d26ca21-acc2-4608-81a1-b9a27a9ca45b\">\n",
              "    <div class=\"colab-df-container\">\n",
              "      <div>\n",
              "<style scoped>\n",
              "    .dataframe tbody tr th:only-of-type {\n",
              "        vertical-align: middle;\n",
              "    }\n",
              "\n",
              "    .dataframe tbody tr th {\n",
              "        vertical-align: top;\n",
              "    }\n",
              "\n",
              "    .dataframe thead th {\n",
              "        text-align: right;\n",
              "    }\n",
              "</style>\n",
              "<table border=\"1\" class=\"dataframe\">\n",
              "  <thead>\n",
              "    <tr style=\"text-align: right;\">\n",
              "      <th></th>\n",
              "      <th>x1</th>\n",
              "      <th>x2</th>\n",
              "      <th>x3</th>\n",
              "      <th>x4</th>\n",
              "      <th>x5</th>\n",
              "      <th>x6</th>\n",
              "      <th>x7</th>\n",
              "      <th>x8</th>\n",
              "      <th>x9</th>\n",
              "      <th>x10</th>\n",
              "      <th>...</th>\n",
              "      <th>y463</th>\n",
              "      <th>y464</th>\n",
              "      <th>y465</th>\n",
              "      <th>y466</th>\n",
              "      <th>y467</th>\n",
              "      <th>y468</th>\n",
              "      <th>yaw</th>\n",
              "      <th>pitch</th>\n",
              "      <th>roll</th>\n",
              "      <th>image_name</th>\n",
              "    </tr>\n",
              "  </thead>\n",
              "  <tbody>\n",
              "    <tr>\n",
              "      <th>0</th>\n",
              "      <td>0.0</td>\n",
              "      <td>0.768221</td>\n",
              "      <td>0.042679</td>\n",
              "      <td>0.298753</td>\n",
              "      <td>0.896258</td>\n",
              "      <td>0.768221</td>\n",
              "      <td>0.256074</td>\n",
              "      <td>-2.987527</td>\n",
              "      <td>0.256074</td>\n",
              "      <td>0.384111</td>\n",
              "      <td>...</td>\n",
              "      <td>-22.0</td>\n",
              "      <td>-86.0</td>\n",
              "      <td>-83.0</td>\n",
              "      <td>-80.0</td>\n",
              "      <td>-91.0</td>\n",
              "      <td>-95.0</td>\n",
              "      <td>0.725284</td>\n",
              "      <td>-0.140406</td>\n",
              "      <td>-0.174674</td>\n",
              "      <td>image03195</td>\n",
              "    </tr>\n",
              "    <tr>\n",
              "      <th>1</th>\n",
              "      <td>0.0</td>\n",
              "      <td>-0.119313</td>\n",
              "      <td>-0.053028</td>\n",
              "      <td>-0.198854</td>\n",
              "      <td>-0.132570</td>\n",
              "      <td>-0.132570</td>\n",
              "      <td>-0.092799</td>\n",
              "      <td>-0.755647</td>\n",
              "      <td>-0.106056</td>\n",
              "      <td>-0.119313</td>\n",
              "      <td>...</td>\n",
              "      <td>-15.0</td>\n",
              "      <td>-74.0</td>\n",
              "      <td>-72.0</td>\n",
              "      <td>-70.0</td>\n",
              "      <td>-84.0</td>\n",
              "      <td>-86.0</td>\n",
              "      <td>-0.233745</td>\n",
              "      <td>-0.116700</td>\n",
              "      <td>0.095809</td>\n",
              "      <td>image03247</td>\n",
              "    </tr>\n",
              "    <tr>\n",
              "      <th>2</th>\n",
              "      <td>0.0</td>\n",
              "      <td>-0.257694</td>\n",
              "      <td>0.000000</td>\n",
              "      <td>-0.227377</td>\n",
              "      <td>-0.303170</td>\n",
              "      <td>-0.257694</td>\n",
              "      <td>-0.090951</td>\n",
              "      <td>-0.212219</td>\n",
              "      <td>-0.090951</td>\n",
              "      <td>-0.151585</td>\n",
              "      <td>...</td>\n",
              "      <td>-23.0</td>\n",
              "      <td>-76.0</td>\n",
              "      <td>-72.0</td>\n",
              "      <td>-70.0</td>\n",
              "      <td>-86.0</td>\n",
              "      <td>-92.0</td>\n",
              "      <td>-1.330352</td>\n",
              "      <td>0.003072</td>\n",
              "      <td>0.362599</td>\n",
              "      <td>image03214</td>\n",
              "    </tr>\n",
              "    <tr>\n",
              "      <th>3</th>\n",
              "      <td>0.0</td>\n",
              "      <td>-0.011573</td>\n",
              "      <td>0.023147</td>\n",
              "      <td>-0.081013</td>\n",
              "      <td>0.000000</td>\n",
              "      <td>0.000000</td>\n",
              "      <td>0.046293</td>\n",
              "      <td>-0.763836</td>\n",
              "      <td>0.057866</td>\n",
              "      <td>0.057866</td>\n",
              "      <td>...</td>\n",
              "      <td>-21.0</td>\n",
              "      <td>-105.0</td>\n",
              "      <td>-99.0</td>\n",
              "      <td>-94.0</td>\n",
              "      <td>-121.0</td>\n",
              "      <td>-125.0</td>\n",
              "      <td>-0.040907</td>\n",
              "      <td>-0.474087</td>\n",
              "      <td>0.019801</td>\n",
              "      <td>image03238</td>\n",
              "    </tr>\n",
              "    <tr>\n",
              "      <th>4</th>\n",
              "      <td>0.0</td>\n",
              "      <td>0.126856</td>\n",
              "      <td>0.063428</td>\n",
              "      <td>0.047571</td>\n",
              "      <td>0.158570</td>\n",
              "      <td>0.174427</td>\n",
              "      <td>0.206142</td>\n",
              "      <td>-0.856280</td>\n",
              "      <td>0.237856</td>\n",
              "      <td>0.269570</td>\n",
              "      <td>...</td>\n",
              "      <td>-24.0</td>\n",
              "      <td>-94.0</td>\n",
              "      <td>-91.0</td>\n",
              "      <td>-88.0</td>\n",
              "      <td>-99.0</td>\n",
              "      <td>-102.0</td>\n",
              "      <td>0.205732</td>\n",
              "      <td>-0.241359</td>\n",
              "      <td>-0.150232</td>\n",
              "      <td>image03236</td>\n",
              "    </tr>\n",
              "  </tbody>\n",
              "</table>\n",
              "<p>5 rows × 940 columns</p>\n",
              "</div>\n",
              "      <button class=\"colab-df-convert\" onclick=\"convertToInteractive('df-9d26ca21-acc2-4608-81a1-b9a27a9ca45b')\"\n",
              "              title=\"Convert this dataframe to an interactive table.\"\n",
              "              style=\"display:none;\">\n",
              "        \n",
              "  <svg xmlns=\"http://www.w3.org/2000/svg\" height=\"24px\"viewBox=\"0 0 24 24\"\n",
              "       width=\"24px\">\n",
              "    <path d=\"M0 0h24v24H0V0z\" fill=\"none\"/>\n",
              "    <path d=\"M18.56 5.44l.94 2.06.94-2.06 2.06-.94-2.06-.94-.94-2.06-.94 2.06-2.06.94zm-11 1L8.5 8.5l.94-2.06 2.06-.94-2.06-.94L8.5 2.5l-.94 2.06-2.06.94zm10 10l.94 2.06.94-2.06 2.06-.94-2.06-.94-.94-2.06-.94 2.06-2.06.94z\"/><path d=\"M17.41 7.96l-1.37-1.37c-.4-.4-.92-.59-1.43-.59-.52 0-1.04.2-1.43.59L10.3 9.45l-7.72 7.72c-.78.78-.78 2.05 0 2.83L4 21.41c.39.39.9.59 1.41.59.51 0 1.02-.2 1.41-.59l7.78-7.78 2.81-2.81c.8-.78.8-2.07 0-2.86zM5.41 20L4 18.59l7.72-7.72 1.47 1.35L5.41 20z\"/>\n",
              "  </svg>\n",
              "      </button>\n",
              "      \n",
              "  <style>\n",
              "    .colab-df-container {\n",
              "      display:flex;\n",
              "      flex-wrap:wrap;\n",
              "      gap: 12px;\n",
              "    }\n",
              "\n",
              "    .colab-df-convert {\n",
              "      background-color: #E8F0FE;\n",
              "      border: none;\n",
              "      border-radius: 50%;\n",
              "      cursor: pointer;\n",
              "      display: none;\n",
              "      fill: #1967D2;\n",
              "      height: 32px;\n",
              "      padding: 0 0 0 0;\n",
              "      width: 32px;\n",
              "    }\n",
              "\n",
              "    .colab-df-convert:hover {\n",
              "      background-color: #E2EBFA;\n",
              "      box-shadow: 0px 1px 2px rgba(60, 64, 67, 0.3), 0px 1px 3px 1px rgba(60, 64, 67, 0.15);\n",
              "      fill: #174EA6;\n",
              "    }\n",
              "\n",
              "    [theme=dark] .colab-df-convert {\n",
              "      background-color: #3B4455;\n",
              "      fill: #D2E3FC;\n",
              "    }\n",
              "\n",
              "    [theme=dark] .colab-df-convert:hover {\n",
              "      background-color: #434B5C;\n",
              "      box-shadow: 0px 1px 3px 1px rgba(0, 0, 0, 0.15);\n",
              "      filter: drop-shadow(0px 1px 2px rgba(0, 0, 0, 0.3));\n",
              "      fill: #FFFFFF;\n",
              "    }\n",
              "  </style>\n",
              "\n",
              "      <script>\n",
              "        const buttonEl =\n",
              "          document.querySelector('#df-9d26ca21-acc2-4608-81a1-b9a27a9ca45b button.colab-df-convert');\n",
              "        buttonEl.style.display =\n",
              "          google.colab.kernel.accessAllowed ? 'block' : 'none';\n",
              "\n",
              "        async function convertToInteractive(key) {\n",
              "          const element = document.querySelector('#df-9d26ca21-acc2-4608-81a1-b9a27a9ca45b');\n",
              "          const dataTable =\n",
              "            await google.colab.kernel.invokeFunction('convertToInteractive',\n",
              "                                                     [key], {});\n",
              "          if (!dataTable) return;\n",
              "\n",
              "          const docLinkHtml = 'Like what you see? Visit the ' +\n",
              "            '<a target=\"_blank\" href=https://colab.research.google.com/notebooks/data_table.ipynb>data table notebook</a>'\n",
              "            + ' to learn more about interactive tables.';\n",
              "          element.innerHTML = '';\n",
              "          dataTable['output_type'] = 'display_data';\n",
              "          await google.colab.output.renderOutput(dataTable, element);\n",
              "          const docLink = document.createElement('div');\n",
              "          docLink.innerHTML = docLinkHtml;\n",
              "          element.appendChild(docLink);\n",
              "        }\n",
              "      </script>\n",
              "    </div>\n",
              "  </div>\n",
              "  "
            ]
          },
          "metadata": {},
          "execution_count": 79
        }
      ]
    },
    {
      "cell_type": "code",
      "source": [
        "X = data.iloc[:,:-4]\n",
        "X.head(1)"
      ],
      "metadata": {
        "colab": {
          "base_uri": "https://localhost:8080/",
          "height": 110
        },
        "id": "DKdNWBSgL8Mh",
        "outputId": "969c1270-1d34-4ef9-a223-bca2bf356783"
      },
      "execution_count": 80,
      "outputs": [
        {
          "output_type": "execute_result",
          "data": {
            "text/plain": [
              "    x1        x2        x3        x4        x5        x6        x7        x8  \\\n",
              "0  0.0  0.768221  0.042679  0.298753  0.896258  0.768221  0.256074 -2.987527   \n",
              "\n",
              "         x9       x10  ...  y459  y460  y461  y462  y463  y464  y465  y466  \\\n",
              "0  0.256074  0.384111  ... -24.0 -27.0 -24.0 -23.0 -22.0 -86.0 -83.0 -80.0   \n",
              "\n",
              "   y467  y468  \n",
              "0 -91.0 -95.0  \n",
              "\n",
              "[1 rows x 936 columns]"
            ],
            "text/html": [
              "\n",
              "  <div id=\"df-bbc3e2db-a34d-49f8-a826-5a9ac469919b\">\n",
              "    <div class=\"colab-df-container\">\n",
              "      <div>\n",
              "<style scoped>\n",
              "    .dataframe tbody tr th:only-of-type {\n",
              "        vertical-align: middle;\n",
              "    }\n",
              "\n",
              "    .dataframe tbody tr th {\n",
              "        vertical-align: top;\n",
              "    }\n",
              "\n",
              "    .dataframe thead th {\n",
              "        text-align: right;\n",
              "    }\n",
              "</style>\n",
              "<table border=\"1\" class=\"dataframe\">\n",
              "  <thead>\n",
              "    <tr style=\"text-align: right;\">\n",
              "      <th></th>\n",
              "      <th>x1</th>\n",
              "      <th>x2</th>\n",
              "      <th>x3</th>\n",
              "      <th>x4</th>\n",
              "      <th>x5</th>\n",
              "      <th>x6</th>\n",
              "      <th>x7</th>\n",
              "      <th>x8</th>\n",
              "      <th>x9</th>\n",
              "      <th>x10</th>\n",
              "      <th>...</th>\n",
              "      <th>y459</th>\n",
              "      <th>y460</th>\n",
              "      <th>y461</th>\n",
              "      <th>y462</th>\n",
              "      <th>y463</th>\n",
              "      <th>y464</th>\n",
              "      <th>y465</th>\n",
              "      <th>y466</th>\n",
              "      <th>y467</th>\n",
              "      <th>y468</th>\n",
              "    </tr>\n",
              "  </thead>\n",
              "  <tbody>\n",
              "    <tr>\n",
              "      <th>0</th>\n",
              "      <td>0.0</td>\n",
              "      <td>0.768221</td>\n",
              "      <td>0.042679</td>\n",
              "      <td>0.298753</td>\n",
              "      <td>0.896258</td>\n",
              "      <td>0.768221</td>\n",
              "      <td>0.256074</td>\n",
              "      <td>-2.987527</td>\n",
              "      <td>0.256074</td>\n",
              "      <td>0.384111</td>\n",
              "      <td>...</td>\n",
              "      <td>-24.0</td>\n",
              "      <td>-27.0</td>\n",
              "      <td>-24.0</td>\n",
              "      <td>-23.0</td>\n",
              "      <td>-22.0</td>\n",
              "      <td>-86.0</td>\n",
              "      <td>-83.0</td>\n",
              "      <td>-80.0</td>\n",
              "      <td>-91.0</td>\n",
              "      <td>-95.0</td>\n",
              "    </tr>\n",
              "  </tbody>\n",
              "</table>\n",
              "<p>1 rows × 936 columns</p>\n",
              "</div>\n",
              "      <button class=\"colab-df-convert\" onclick=\"convertToInteractive('df-bbc3e2db-a34d-49f8-a826-5a9ac469919b')\"\n",
              "              title=\"Convert this dataframe to an interactive table.\"\n",
              "              style=\"display:none;\">\n",
              "        \n",
              "  <svg xmlns=\"http://www.w3.org/2000/svg\" height=\"24px\"viewBox=\"0 0 24 24\"\n",
              "       width=\"24px\">\n",
              "    <path d=\"M0 0h24v24H0V0z\" fill=\"none\"/>\n",
              "    <path d=\"M18.56 5.44l.94 2.06.94-2.06 2.06-.94-2.06-.94-.94-2.06-.94 2.06-2.06.94zm-11 1L8.5 8.5l.94-2.06 2.06-.94-2.06-.94L8.5 2.5l-.94 2.06-2.06.94zm10 10l.94 2.06.94-2.06 2.06-.94-2.06-.94-.94-2.06-.94 2.06-2.06.94z\"/><path d=\"M17.41 7.96l-1.37-1.37c-.4-.4-.92-.59-1.43-.59-.52 0-1.04.2-1.43.59L10.3 9.45l-7.72 7.72c-.78.78-.78 2.05 0 2.83L4 21.41c.39.39.9.59 1.41.59.51 0 1.02-.2 1.41-.59l7.78-7.78 2.81-2.81c.8-.78.8-2.07 0-2.86zM5.41 20L4 18.59l7.72-7.72 1.47 1.35L5.41 20z\"/>\n",
              "  </svg>\n",
              "      </button>\n",
              "      \n",
              "  <style>\n",
              "    .colab-df-container {\n",
              "      display:flex;\n",
              "      flex-wrap:wrap;\n",
              "      gap: 12px;\n",
              "    }\n",
              "\n",
              "    .colab-df-convert {\n",
              "      background-color: #E8F0FE;\n",
              "      border: none;\n",
              "      border-radius: 50%;\n",
              "      cursor: pointer;\n",
              "      display: none;\n",
              "      fill: #1967D2;\n",
              "      height: 32px;\n",
              "      padding: 0 0 0 0;\n",
              "      width: 32px;\n",
              "    }\n",
              "\n",
              "    .colab-df-convert:hover {\n",
              "      background-color: #E2EBFA;\n",
              "      box-shadow: 0px 1px 2px rgba(60, 64, 67, 0.3), 0px 1px 3px 1px rgba(60, 64, 67, 0.15);\n",
              "      fill: #174EA6;\n",
              "    }\n",
              "\n",
              "    [theme=dark] .colab-df-convert {\n",
              "      background-color: #3B4455;\n",
              "      fill: #D2E3FC;\n",
              "    }\n",
              "\n",
              "    [theme=dark] .colab-df-convert:hover {\n",
              "      background-color: #434B5C;\n",
              "      box-shadow: 0px 1px 3px 1px rgba(0, 0, 0, 0.15);\n",
              "      filter: drop-shadow(0px 1px 2px rgba(0, 0, 0, 0.3));\n",
              "      fill: #FFFFFF;\n",
              "    }\n",
              "  </style>\n",
              "\n",
              "      <script>\n",
              "        const buttonEl =\n",
              "          document.querySelector('#df-bbc3e2db-a34d-49f8-a826-5a9ac469919b button.colab-df-convert');\n",
              "        buttonEl.style.display =\n",
              "          google.colab.kernel.accessAllowed ? 'block' : 'none';\n",
              "\n",
              "        async function convertToInteractive(key) {\n",
              "          const element = document.querySelector('#df-bbc3e2db-a34d-49f8-a826-5a9ac469919b');\n",
              "          const dataTable =\n",
              "            await google.colab.kernel.invokeFunction('convertToInteractive',\n",
              "                                                     [key], {});\n",
              "          if (!dataTable) return;\n",
              "\n",
              "          const docLinkHtml = 'Like what you see? Visit the ' +\n",
              "            '<a target=\"_blank\" href=https://colab.research.google.com/notebooks/data_table.ipynb>data table notebook</a>'\n",
              "            + ' to learn more about interactive tables.';\n",
              "          element.innerHTML = '';\n",
              "          dataTable['output_type'] = 'display_data';\n",
              "          await google.colab.output.renderOutput(dataTable, element);\n",
              "          const docLink = document.createElement('div');\n",
              "          docLink.innerHTML = docLinkHtml;\n",
              "          element.appendChild(docLink);\n",
              "        }\n",
              "      </script>\n",
              "    </div>\n",
              "  </div>\n",
              "  "
            ]
          },
          "metadata": {},
          "execution_count": 80
        }
      ]
    },
    {
      "cell_type": "code",
      "source": [
        "y = data.iloc[:,-4:-1]\n",
        "y.head(1)"
      ],
      "metadata": {
        "colab": {
          "base_uri": "https://localhost:8080/",
          "height": 81
        },
        "id": "H2J2HnY2MPzi",
        "outputId": "665d2a89-f5aa-4dd9-ea5f-ee84d6681f17"
      },
      "execution_count": 81,
      "outputs": [
        {
          "output_type": "execute_result",
          "data": {
            "text/plain": [
              "        yaw     pitch      roll\n",
              "0  0.725284 -0.140406 -0.174674"
            ],
            "text/html": [
              "\n",
              "  <div id=\"df-ce64a665-8e8f-4852-ac59-3ae7554aeb32\">\n",
              "    <div class=\"colab-df-container\">\n",
              "      <div>\n",
              "<style scoped>\n",
              "    .dataframe tbody tr th:only-of-type {\n",
              "        vertical-align: middle;\n",
              "    }\n",
              "\n",
              "    .dataframe tbody tr th {\n",
              "        vertical-align: top;\n",
              "    }\n",
              "\n",
              "    .dataframe thead th {\n",
              "        text-align: right;\n",
              "    }\n",
              "</style>\n",
              "<table border=\"1\" class=\"dataframe\">\n",
              "  <thead>\n",
              "    <tr style=\"text-align: right;\">\n",
              "      <th></th>\n",
              "      <th>yaw</th>\n",
              "      <th>pitch</th>\n",
              "      <th>roll</th>\n",
              "    </tr>\n",
              "  </thead>\n",
              "  <tbody>\n",
              "    <tr>\n",
              "      <th>0</th>\n",
              "      <td>0.725284</td>\n",
              "      <td>-0.140406</td>\n",
              "      <td>-0.174674</td>\n",
              "    </tr>\n",
              "  </tbody>\n",
              "</table>\n",
              "</div>\n",
              "      <button class=\"colab-df-convert\" onclick=\"convertToInteractive('df-ce64a665-8e8f-4852-ac59-3ae7554aeb32')\"\n",
              "              title=\"Convert this dataframe to an interactive table.\"\n",
              "              style=\"display:none;\">\n",
              "        \n",
              "  <svg xmlns=\"http://www.w3.org/2000/svg\" height=\"24px\"viewBox=\"0 0 24 24\"\n",
              "       width=\"24px\">\n",
              "    <path d=\"M0 0h24v24H0V0z\" fill=\"none\"/>\n",
              "    <path d=\"M18.56 5.44l.94 2.06.94-2.06 2.06-.94-2.06-.94-.94-2.06-.94 2.06-2.06.94zm-11 1L8.5 8.5l.94-2.06 2.06-.94-2.06-.94L8.5 2.5l-.94 2.06-2.06.94zm10 10l.94 2.06.94-2.06 2.06-.94-2.06-.94-.94-2.06-.94 2.06-2.06.94z\"/><path d=\"M17.41 7.96l-1.37-1.37c-.4-.4-.92-.59-1.43-.59-.52 0-1.04.2-1.43.59L10.3 9.45l-7.72 7.72c-.78.78-.78 2.05 0 2.83L4 21.41c.39.39.9.59 1.41.59.51 0 1.02-.2 1.41-.59l7.78-7.78 2.81-2.81c.8-.78.8-2.07 0-2.86zM5.41 20L4 18.59l7.72-7.72 1.47 1.35L5.41 20z\"/>\n",
              "  </svg>\n",
              "      </button>\n",
              "      \n",
              "  <style>\n",
              "    .colab-df-container {\n",
              "      display:flex;\n",
              "      flex-wrap:wrap;\n",
              "      gap: 12px;\n",
              "    }\n",
              "\n",
              "    .colab-df-convert {\n",
              "      background-color: #E8F0FE;\n",
              "      border: none;\n",
              "      border-radius: 50%;\n",
              "      cursor: pointer;\n",
              "      display: none;\n",
              "      fill: #1967D2;\n",
              "      height: 32px;\n",
              "      padding: 0 0 0 0;\n",
              "      width: 32px;\n",
              "    }\n",
              "\n",
              "    .colab-df-convert:hover {\n",
              "      background-color: #E2EBFA;\n",
              "      box-shadow: 0px 1px 2px rgba(60, 64, 67, 0.3), 0px 1px 3px 1px rgba(60, 64, 67, 0.15);\n",
              "      fill: #174EA6;\n",
              "    }\n",
              "\n",
              "    [theme=dark] .colab-df-convert {\n",
              "      background-color: #3B4455;\n",
              "      fill: #D2E3FC;\n",
              "    }\n",
              "\n",
              "    [theme=dark] .colab-df-convert:hover {\n",
              "      background-color: #434B5C;\n",
              "      box-shadow: 0px 1px 3px 1px rgba(0, 0, 0, 0.15);\n",
              "      filter: drop-shadow(0px 1px 2px rgba(0, 0, 0, 0.3));\n",
              "      fill: #FFFFFF;\n",
              "    }\n",
              "  </style>\n",
              "\n",
              "      <script>\n",
              "        const buttonEl =\n",
              "          document.querySelector('#df-ce64a665-8e8f-4852-ac59-3ae7554aeb32 button.colab-df-convert');\n",
              "        buttonEl.style.display =\n",
              "          google.colab.kernel.accessAllowed ? 'block' : 'none';\n",
              "\n",
              "        async function convertToInteractive(key) {\n",
              "          const element = document.querySelector('#df-ce64a665-8e8f-4852-ac59-3ae7554aeb32');\n",
              "          const dataTable =\n",
              "            await google.colab.kernel.invokeFunction('convertToInteractive',\n",
              "                                                     [key], {});\n",
              "          if (!dataTable) return;\n",
              "\n",
              "          const docLinkHtml = 'Like what you see? Visit the ' +\n",
              "            '<a target=\"_blank\" href=https://colab.research.google.com/notebooks/data_table.ipynb>data table notebook</a>'\n",
              "            + ' to learn more about interactive tables.';\n",
              "          element.innerHTML = '';\n",
              "          dataTable['output_type'] = 'display_data';\n",
              "          await google.colab.output.renderOutput(dataTable, element);\n",
              "          const docLink = document.createElement('div');\n",
              "          docLink.innerHTML = docLinkHtml;\n",
              "          element.appendChild(docLink);\n",
              "        }\n",
              "      </script>\n",
              "    </div>\n",
              "  </div>\n",
              "  "
            ]
          },
          "metadata": {},
          "execution_count": 81
        }
      ]
    },
    {
      "cell_type": "markdown",
      "source": [
        "## Scaling"
      ],
      "metadata": {
        "id": "stq3pe5k4c9F"
      }
    },
    {
      "cell_type": "code",
      "source": [
        "scaler = MinMaxScaler()\n",
        "x_scaled = scaler.fit_transform(X.to_numpy())"
      ],
      "metadata": {
        "id": "uEFcBj-hxfoA"
      },
      "execution_count": 6,
      "outputs": []
    },
    {
      "cell_type": "code",
      "source": [
        "pca = PCA(n_components=200)\n",
        "X_pca = pca.fit_transform(x_scaled)"
      ],
      "metadata": {
        "id": "spt64ofWHuSY"
      },
      "execution_count": 7,
      "outputs": []
    },
    {
      "cell_type": "code",
      "source": [
        "x_train, x_test, y_train, y_test = train_test_split(X, y, test_size=0.20, random_state=42, shuffle=True)"
      ],
      "metadata": {
        "id": "i6R3wwE8MmRf"
      },
      "execution_count": 104,
      "outputs": []
    },
    {
      "cell_type": "markdown",
      "source": [
        "## Helping methods"
      ],
      "metadata": {
        "id": "FX1RNjyNsPpr"
      }
    },
    {
      "cell_type": "code",
      "source": [
        "def performance_metrics(y_true, y_pred):\n",
        "  print(f\"mean square error = {mean_squared_error(y_true, y_pred)}\")\n",
        "  print(f\"mean absolute error = {mean_absolute_error(y_true, y_pred)}\")\n",
        "  print(f\"R2-score = {r2_score(y_true, y_pred)}\")"
      ],
      "metadata": {
        "id": "bP-tPD7IsO5r"
      },
      "execution_count": 55,
      "outputs": []
    },
    {
      "cell_type": "markdown",
      "source": [
        "## **Model 1: RandomForest**\n",
        "\n",
        "\n"
      ],
      "metadata": {
        "id": "6JavhCARgXmh"
      }
    },
    {
      "cell_type": "code",
      "source": [
        "clf = MultiOutputRegressor(RandomForestRegressor(max_depth=6, random_state=42, bootstrap=True),n_jobs=-1)\n",
        "clf.fit(x_train, y_train)"
      ],
      "metadata": {
        "id": "ph1PoGNBL106"
      },
      "execution_count": null,
      "outputs": []
    },
    {
      "cell_type": "code",
      "source": [
        "print(f\"training score: {clf.score(x_train, y_train, sample_weight=None)}\")\n",
        "print(f\"testing score: {clf.score(x_test, y_test, sample_weight=None)}\")"
      ],
      "metadata": {
        "colab": {
          "base_uri": "https://localhost:8080/"
        },
        "id": "-1A-UxCffgra",
        "outputId": "eb68b1c7-6164-4145-cd57-8e8c46fc2946"
      },
      "execution_count": 106,
      "outputs": [
        {
          "output_type": "stream",
          "name": "stdout",
          "text": [
            "training score: 0.8793670627720029\n",
            "testing score: 0.7148822620496736\n"
          ]
        }
      ]
    },
    {
      "cell_type": "code",
      "execution_count": 107,
      "outputs": [],
      "source": [
        "# save model\n",
        "with open('/content/drive/MyDrive/Head Pose Estimation ML Project/Saved Models/model_Rm.pkl', 'wb') as file:\n",
        "        pickle.dump(clf, file)"
      ],
      "metadata": {
        "pycharm": {
          "name": "#%%\n"
        },
        "id": "l247GTOrj6p0"
      }
    },
    {
      "cell_type": "markdown",
      "source": [
        "## **Model 2: SVR**\n",
        "  "
      ],
      "metadata": {
        "id": "k3RQZVo4hIcc"
      }
    },
    {
      "cell_type": "code",
      "source": [
        "# define base model\n",
        "model = SVR(kernel='rbf', C=300, degree=4,coef0=1,max_iter=4)  #kernel='poly', C=100, gamma='auto', degree=3, epsilon=.1,coef0=1\n",
        "#model = SVR(kernel='poly', C=100, gamma='auto', degree=3, epsilon=.1,coef0=1)  #kernel='poly', C=100, gamma='auto', degree=3, epsilon=.1,coef0=1\n",
        "\n",
        "# define the direct multioutput wrapper model\n",
        "wrapper = MultiOutputRegressor(model)\n",
        "wrapper.fit(x_train, y_train)\n",
        "y_pred = wrapper.predict(x_test)"
      ],
      "metadata": {
        "id": "t9IHukU-hLj5"
      },
      "execution_count": 83,
      "outputs": []
    },
    {
      "cell_type": "code",
      "source": [
        "print(f\"training score: {wrapper.score(x_train, y_train, sample_weight=None)}\")\n",
        "print(f\"testing score: {wrapper.score(x_test, y_test, sample_weight=None)}\")"
      ],
      "metadata": {
        "colab": {
          "base_uri": "https://localhost:8080/"
        },
        "id": "BrxehtREmbSU",
        "outputId": "04ff92b0-867c-4bd9-ebf9-61cc6f588a6b"
      },
      "execution_count": 84,
      "outputs": [
        {
          "output_type": "stream",
          "name": "stdout",
          "text": [
            "training score: 0.7328009263654853\n",
            "testing score: 0.7317789035299267\n"
          ]
        }
      ]
    },
    {
      "cell_type": "code",
      "execution_count": 85,
      "outputs": [],
      "source": [
        "# save model\n",
        "with open('/content/drive/MyDrive/Head Pose Estimation ML Project/Saved Models/model_svr.pkl', 'wb') as file:\n",
        "        pickle.dump(wrapper, file)"
      ],
      "metadata": {
        "pycharm": {
          "name": "#%%\n"
        },
        "id": "4FvkDw5ij6p1"
      }
    },
    {
      "cell_type": "markdown",
      "source": [
        "## **Model 3: GradientBoost**\n",
        "\n"
      ],
      "metadata": {
        "id": "Hs6LLTu3kmKk"
      }
    },
    {
      "cell_type": "code",
      "source": [
        "from sklearn.ensemble import GradientBoostingRegressor\n",
        "gbr = GradientBoostingRegressor(random_state=42,n_estimators=20,learning_rate=0.05,max_depth=6) #random_state=42,n_estimators=100,learning_rate=0.05\n",
        "model = MultiOutputRegressor(estimator=gbr,n_jobs=-1)"
      ],
      "metadata": {
        "id": "J5tZBI9fn0ny"
      },
      "execution_count": 69,
      "outputs": []
    },
    {
      "cell_type": "code",
      "source": [
        "model.fit(x_train, y_train)\n",
        "ypred = model.predict(x_test)"
      ],
      "metadata": {
        "id": "rJsRBTFnn87w"
      },
      "execution_count": 70,
      "outputs": []
    },
    {
      "cell_type": "code",
      "source": [
        "print(f\"training score: {model.score(x_train, y_train)}\")\n",
        "print(f\"testing score: {model.score(x_test, y_test)}\")"
      ],
      "metadata": {
        "colab": {
          "base_uri": "https://localhost:8080/"
        },
        "id": "QJCLbhSV4f3V",
        "outputId": "59c19c8d-627d-46e5-e828-0e78a7a11435"
      },
      "execution_count": 71,
      "outputs": [
        {
          "output_type": "stream",
          "name": "stdout",
          "text": [
            "training score: 0.7894682660089803\n",
            "testing score: 0.6205588361840744\n"
          ]
        }
      ]
    },
    {
      "cell_type": "code",
      "execution_count": null,
      "outputs": [],
      "source": [
        "# save model\n",
        "with open('/content/drive/MyDrive/Head Pose Estimation ML Project/Saved Models/model_GB.pkl', 'wb') as file:\n",
        "        pickle.dump(model, file)"
      ],
      "metadata": {
        "pycharm": {
          "name": "#%%\n"
        },
        "id": "pbIsULYwj6p1"
      }
    },
    {
      "cell_type": "markdown",
      "source": [
        "## **Model 3: XGBoost**\n",
        "\n"
      ],
      "metadata": {
        "id": "Kb9W65d1MXW6"
      }
    },
    {
      "cell_type": "code",
      "source": [
        "from xgboost.sklearn import XGBRegressor\n",
        "xbg = XGBRegressor(random_state=42, max_depth=5, n_estimators=300,reg_alpha=0.1)\n",
        "model = MultiOutputRegressor(estimator=xbg,n_jobs=-1)"
      ],
      "metadata": {
        "id": "43QWr06eMZLg"
      },
      "execution_count": 90,
      "outputs": []
    },
    {
      "cell_type": "code",
      "source": [
        "model.fit(x_train, y_train)\n",
        "ypred = model.predict(x_test)"
      ],
      "metadata": {
        "id": "4mbyDwvmMdI6"
      },
      "execution_count": 91,
      "outputs": []
    },
    {
      "cell_type": "code",
      "source": [
        "print(f\"training score: {model.score(x_train, y_train)}\")\n",
        "print(f\"testing score: {model.score(x_test, y_test)}\")"
      ],
      "metadata": {
        "colab": {
          "base_uri": "https://localhost:8080/"
        },
        "id": "CoKvvsCYMmeJ",
        "outputId": "e5a61a67-3213-4862-adce-1fc52c159856"
      },
      "execution_count": 92,
      "outputs": [
        {
          "output_type": "stream",
          "name": "stdout",
          "text": [
            "training score: 0.9993191456335947\n",
            "testing score: 0.6962723178396897\n"
          ]
        }
      ]
    },
    {
      "cell_type": "code",
      "source": [
        "# save model\n",
        "with open('/content/drive/MyDrive/Head Pose Estimation ML Project/Saved Models/model_XGB.pkl', 'wb') as file:\n",
        "        pickle.dump(model, file)"
      ],
      "metadata": {
        "id": "hVAgKLjyNTP0"
      },
      "execution_count": 93,
      "outputs": []
    },
    {
      "cell_type": "code",
      "source": [
        "w"
      ],
      "metadata": {
        "id": "fapyrc2pYLxr"
      },
      "execution_count": null,
      "outputs": []
    }
  ]
}