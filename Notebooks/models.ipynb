{
 "nbformat": 4,
 "nbformat_minor": 0,
 "metadata": {
  "colab": {
   "name": "Copy of model.ipynb",
   "provenance": [],
   "collapsed_sections": [],
   "include_colab_link": true
  },
  "kernelspec": {
   "name": "python3",
   "display_name": "Python 3"
  },
  "language_info": {
   "name": "python"
  }
 },
 "cells": [
  {
   "cell_type": "markdown",
   "metadata": {
    "id": "view-in-github",
    "colab_type": "text"
   },
   "source": [
    "<a href=\"https://colab.research.google.com/github/Yassmina-Abdo/realtime-head-pose-estimation/blob/main/Notebooks/models.ipynb\" target=\"_parent\"><img src=\"https://colab.research.google.com/assets/colab-badge.svg\" alt=\"Open In Colab\"/></a>"
   ]
  },
  {
   "cell_type": "code",
   "execution_count": 1,
   "metadata": {
    "id": "thCx11OGA9re",
    "colab": {
     "base_uri": "https://localhost:8080/"
    },
    "outputId": "23b33ddf-93b9-4cb5-c099-372c9cdd6c86"
   },
   "outputs": [
    {
     "output_type": "stream",
     "name": "stdout",
     "text": [
      "Drive already mounted at /content/drive; to attempt to forcibly remount, call drive.mount(\"/content/drive\", force_remount=True).\n"
     ]
    }
   ],
   "source": [
    "#from google.colab import drive\n",
    "#drive.mount('/content/drive')"
   ]
  },
  {
   "cell_type": "markdown",
   "source": [
    "## Liberaries"
   ],
   "metadata": {
    "id": "JIkUGP5zgFLZ"
   }
  },
  {
   "cell_type": "code",
   "source": [
    "import numpy as np\n",
    "import pickle\n",
    "import pandas as pd\n",
    "from sklearn.datasets import make_regression\n",
    "from sklearn.model_selection import train_test_split\n",
    "from sklearn.multioutput import MultiOutputRegressor\n",
    "from sklearn.ensemble import RandomForestRegressor\n",
    "from sklearn.svm import LinearSVR, SVR,SVC\n",
    "from sklearn.preprocessing import MinMaxScaler,StandardScaler"
   ],
   "metadata": {
    "id": "9C1KQNDYBwAC"
   },
   "execution_count": 10,
   "outputs": []
  },
  {
   "cell_type": "markdown",
   "source": [
    "## Reading the prepared dataset and split it"
   ],
   "metadata": {
    "id": "rePFWZ7DgJ4R"
   }
  },
  {
   "cell_type": "code",
   "source": [
    "path_local='../Data/data68.csv'\n",
    "path_drive='/content/drive/MyDrive/Head Pose Estimation ML Project/Dataset/Data/data68.csv'\n",
    "data =pd.read_csv(path_local)\n",
    "data.head()"
   ],
   "metadata": {
    "colab": {
     "base_uri": "https://localhost:8080/",
     "height": 299
    },
    "id": "720EacvKK8kk",
    "outputId": "a4f46135-e7cd-4d91-cfbe-29f2e5bddce2"
   },
   "execution_count": 2,
   "outputs": [
    {
     "data": {
      "text/plain": "          x1         x2         x3          x4         x5         x6  \\\n0  279.05283  281.67548  285.68677  287.899540  284.69318  275.74564   \n1  106.78756  107.11935  111.29989  115.847370  124.11620  140.81512   \n2  123.74660  123.77142  123.46777  127.416306  139.26894  162.47030   \n3  241.90388  241.49951  242.88312  242.789640  240.46445  236.20209   \n4  106.61653  113.84815  124.36699  134.661160  146.94208  164.04477   \n\n          x7         x8         x9        x10  ...        y63        y64  \\\n0  261.69530  252.67186  252.65305  264.91882  ...  309.33150  311.98444   \n1  161.30240  185.51682  216.90814  245.06805  ...  304.52728  305.67432   \n2  190.68597  213.83716  222.32365  212.37135  ...  316.44590  320.29510   \n3  231.27866  229.64096  238.73349  256.18690  ...  298.07925  300.00455   \n4  182.50476  206.71774  243.18040  279.36014  ...  316.60840  315.73355   \n\n         y65        y66        y67        y68        yaw      pitch  \\\n0  318.51562  319.20294  317.46520  313.99393  69.062935 -48.795550   \n1  307.28482  319.07630  319.09350  316.20816 -13.392587  -6.686405   \n2  330.61310  324.62158  320.40310  315.17682 -82.824690 -31.047533   \n3  305.23682  304.31770  302.94162  300.31104  47.252384 -21.523932   \n4  318.12878  319.93948  322.06128  323.02048   3.578812   5.349906   \n\n        roll         img  \n0 -31.882296  image03258  \n1   5.489456  image03247  \n2  61.351288  image03252  \n3   0.100378  image03237  \n4  -7.209053  image03250  \n\n[5 rows x 140 columns]",
      "text/html": "<div>\n<style scoped>\n    .dataframe tbody tr th:only-of-type {\n        vertical-align: middle;\n    }\n\n    .dataframe tbody tr th {\n        vertical-align: top;\n    }\n\n    .dataframe thead th {\n        text-align: right;\n    }\n</style>\n<table border=\"1\" class=\"dataframe\">\n  <thead>\n    <tr style=\"text-align: right;\">\n      <th></th>\n      <th>x1</th>\n      <th>x2</th>\n      <th>x3</th>\n      <th>x4</th>\n      <th>x5</th>\n      <th>x6</th>\n      <th>x7</th>\n      <th>x8</th>\n      <th>x9</th>\n      <th>x10</th>\n      <th>...</th>\n      <th>y63</th>\n      <th>y64</th>\n      <th>y65</th>\n      <th>y66</th>\n      <th>y67</th>\n      <th>y68</th>\n      <th>yaw</th>\n      <th>pitch</th>\n      <th>roll</th>\n      <th>img</th>\n    </tr>\n  </thead>\n  <tbody>\n    <tr>\n      <th>0</th>\n      <td>279.05283</td>\n      <td>281.67548</td>\n      <td>285.68677</td>\n      <td>287.899540</td>\n      <td>284.69318</td>\n      <td>275.74564</td>\n      <td>261.69530</td>\n      <td>252.67186</td>\n      <td>252.65305</td>\n      <td>264.91882</td>\n      <td>...</td>\n      <td>309.33150</td>\n      <td>311.98444</td>\n      <td>318.51562</td>\n      <td>319.20294</td>\n      <td>317.46520</td>\n      <td>313.99393</td>\n      <td>69.062935</td>\n      <td>-48.795550</td>\n      <td>-31.882296</td>\n      <td>image03258</td>\n    </tr>\n    <tr>\n      <th>1</th>\n      <td>106.78756</td>\n      <td>107.11935</td>\n      <td>111.29989</td>\n      <td>115.847370</td>\n      <td>124.11620</td>\n      <td>140.81512</td>\n      <td>161.30240</td>\n      <td>185.51682</td>\n      <td>216.90814</td>\n      <td>245.06805</td>\n      <td>...</td>\n      <td>304.52728</td>\n      <td>305.67432</td>\n      <td>307.28482</td>\n      <td>319.07630</td>\n      <td>319.09350</td>\n      <td>316.20816</td>\n      <td>-13.392587</td>\n      <td>-6.686405</td>\n      <td>5.489456</td>\n      <td>image03247</td>\n    </tr>\n    <tr>\n      <th>2</th>\n      <td>123.74660</td>\n      <td>123.77142</td>\n      <td>123.46777</td>\n      <td>127.416306</td>\n      <td>139.26894</td>\n      <td>162.47030</td>\n      <td>190.68597</td>\n      <td>213.83716</td>\n      <td>222.32365</td>\n      <td>212.37135</td>\n      <td>...</td>\n      <td>316.44590</td>\n      <td>320.29510</td>\n      <td>330.61310</td>\n      <td>324.62158</td>\n      <td>320.40310</td>\n      <td>315.17682</td>\n      <td>-82.824690</td>\n      <td>-31.047533</td>\n      <td>61.351288</td>\n      <td>image03252</td>\n    </tr>\n    <tr>\n      <th>3</th>\n      <td>241.90388</td>\n      <td>241.49951</td>\n      <td>242.88312</td>\n      <td>242.789640</td>\n      <td>240.46445</td>\n      <td>236.20209</td>\n      <td>231.27866</td>\n      <td>229.64096</td>\n      <td>238.73349</td>\n      <td>256.18690</td>\n      <td>...</td>\n      <td>298.07925</td>\n      <td>300.00455</td>\n      <td>305.23682</td>\n      <td>304.31770</td>\n      <td>302.94162</td>\n      <td>300.31104</td>\n      <td>47.252384</td>\n      <td>-21.523932</td>\n      <td>0.100378</td>\n      <td>image03237</td>\n    </tr>\n    <tr>\n      <th>4</th>\n      <td>106.61653</td>\n      <td>113.84815</td>\n      <td>124.36699</td>\n      <td>134.661160</td>\n      <td>146.94208</td>\n      <td>164.04477</td>\n      <td>182.50476</td>\n      <td>206.71774</td>\n      <td>243.18040</td>\n      <td>279.36014</td>\n      <td>...</td>\n      <td>316.60840</td>\n      <td>315.73355</td>\n      <td>318.12878</td>\n      <td>319.93948</td>\n      <td>322.06128</td>\n      <td>323.02048</td>\n      <td>3.578812</td>\n      <td>5.349906</td>\n      <td>-7.209053</td>\n      <td>image03250</td>\n    </tr>\n  </tbody>\n</table>\n<p>5 rows × 140 columns</p>\n</div>"
     },
     "execution_count": 2,
     "metadata": {},
     "output_type": "execute_result"
    }
   ]
  },
  {
   "cell_type": "code",
   "source": [
    "X = data.iloc[:,:-4]\n",
    "X.head(1)"
   ],
   "metadata": {
    "colab": {
     "base_uri": "https://localhost:8080/",
     "height": 174
    },
    "id": "DKdNWBSgL8Mh",
    "outputId": "0b60c06c-c760-48f0-87c4-9f8282e2f103"
   },
   "execution_count": 4,
   "outputs": [
    {
     "data": {
      "text/plain": "          x1         x2         x3         x4         x5         x6        x7  \\\n0  279.05283  281.67548  285.68677  287.89954  284.69318  275.74564  261.6953   \n\n          x8         x9        x10  ...        y59        y60        y61  \\\n0  252.67186  252.65305  264.91882  ...  323.64362  315.69916  305.01852   \n\n         y62       y63        y64        y65        y66       y67        y68  \n0  307.28442  309.3315  311.98444  318.51562  319.20294  317.4652  313.99393  \n\n[1 rows x 136 columns]",
      "text/html": "<div>\n<style scoped>\n    .dataframe tbody tr th:only-of-type {\n        vertical-align: middle;\n    }\n\n    .dataframe tbody tr th {\n        vertical-align: top;\n    }\n\n    .dataframe thead th {\n        text-align: right;\n    }\n</style>\n<table border=\"1\" class=\"dataframe\">\n  <thead>\n    <tr style=\"text-align: right;\">\n      <th></th>\n      <th>x1</th>\n      <th>x2</th>\n      <th>x3</th>\n      <th>x4</th>\n      <th>x5</th>\n      <th>x6</th>\n      <th>x7</th>\n      <th>x8</th>\n      <th>x9</th>\n      <th>x10</th>\n      <th>...</th>\n      <th>y59</th>\n      <th>y60</th>\n      <th>y61</th>\n      <th>y62</th>\n      <th>y63</th>\n      <th>y64</th>\n      <th>y65</th>\n      <th>y66</th>\n      <th>y67</th>\n      <th>y68</th>\n    </tr>\n  </thead>\n  <tbody>\n    <tr>\n      <th>0</th>\n      <td>279.05283</td>\n      <td>281.67548</td>\n      <td>285.68677</td>\n      <td>287.89954</td>\n      <td>284.69318</td>\n      <td>275.74564</td>\n      <td>261.6953</td>\n      <td>252.67186</td>\n      <td>252.65305</td>\n      <td>264.91882</td>\n      <td>...</td>\n      <td>323.64362</td>\n      <td>315.69916</td>\n      <td>305.01852</td>\n      <td>307.28442</td>\n      <td>309.3315</td>\n      <td>311.98444</td>\n      <td>318.51562</td>\n      <td>319.20294</td>\n      <td>317.4652</td>\n      <td>313.99393</td>\n    </tr>\n  </tbody>\n</table>\n<p>1 rows × 136 columns</p>\n</div>"
     },
     "execution_count": 4,
     "metadata": {},
     "output_type": "execute_result"
    }
   ]
  },
  {
   "cell_type": "code",
   "source": [
    "y = data.iloc[:,-4:-1]\n",
    "y.head(1)"
   ],
   "metadata": {
    "colab": {
     "base_uri": "https://localhost:8080/",
     "height": 81
    },
    "id": "H2J2HnY2MPzi",
    "outputId": "0238b9d0-649e-4b23-d42f-3c92c9b1cb40"
   },
   "execution_count": 5,
   "outputs": [
    {
     "data": {
      "text/plain": "         yaw     pitch       roll\n0  69.062935 -48.79555 -31.882296",
      "text/html": "<div>\n<style scoped>\n    .dataframe tbody tr th:only-of-type {\n        vertical-align: middle;\n    }\n\n    .dataframe tbody tr th {\n        vertical-align: top;\n    }\n\n    .dataframe thead th {\n        text-align: right;\n    }\n</style>\n<table border=\"1\" class=\"dataframe\">\n  <thead>\n    <tr style=\"text-align: right;\">\n      <th></th>\n      <th>yaw</th>\n      <th>pitch</th>\n      <th>roll</th>\n    </tr>\n  </thead>\n  <tbody>\n    <tr>\n      <th>0</th>\n      <td>69.062935</td>\n      <td>-48.79555</td>\n      <td>-31.882296</td>\n    </tr>\n  </tbody>\n</table>\n</div>"
     },
     "execution_count": 5,
     "metadata": {},
     "output_type": "execute_result"
    }
   ]
  },
  {
   "cell_type": "markdown",
   "source": [
    "## Scaling"
   ],
   "metadata": {
    "id": "stq3pe5k4c9F"
   }
  },
  {
   "cell_type": "code",
   "source": [
    "scaler = StandardScaler()\n",
    "x_scaled = scaler.fit_transform(X)"
   ],
   "metadata": {
    "id": "uEFcBj-hxfoA"
   },
   "execution_count": 6,
   "outputs": []
  },
  {
   "cell_type": "code",
   "source": [
    "x_train, x_test, y_train, y_test = train_test_split(x_scaled, y, test_size=0.20, random_state=42, shuffle=True)"
   ],
   "metadata": {
    "id": "i6R3wwE8MmRf"
   },
   "execution_count": 7,
   "outputs": []
  },
  {
   "cell_type": "markdown",
   "source": [
    "## **Trial #1:**\n",
    "\n",
    "- MultiOutputRegressor with RandomForestRegressor\n",
    "\n",
    "\n",
    "> https://www.r-bloggers.com/2021/10/multi-output-regression-using-sklearn/\n",
    "\n",
    "\n",
    "\n"
   ],
   "metadata": {
    "id": "6JavhCARgXmh"
   }
  },
  {
   "cell_type": "code",
   "source": [
    "clf = MultiOutputRegressor(RandomForestRegressor(max_depth=12, random_state=42,n_estimators=300,min_samples_split=4))\n",
    "clf.fit(x_train, y_train)\n",
    "clf.score(x_train, y_train, sample_weight=None)"
   ],
   "metadata": {
    "colab": {
     "base_uri": "https://localhost:8080/"
    },
    "id": "ph1PoGNBL106",
    "outputId": "6bd99473-42ca-4ce3-a38f-dc03d9fbcacf"
   },
   "execution_count": 8,
   "outputs": [
    {
     "data": {
      "text/plain": "0.9182871059320766"
     },
     "execution_count": 8,
     "metadata": {},
     "output_type": "execute_result"
    }
   ]
  },
  {
   "cell_type": "code",
   "source": [
    "y_pred= clf.predict(x_test)\n",
    "clf.score(x_test, y_test, sample_weight=None)"
   ],
   "metadata": {
    "colab": {
     "base_uri": "https://localhost:8080/"
    },
    "id": "-1A-UxCffgra",
    "outputId": "6416b4eb-c81b-4623-e3b8-92b2d4fad43a"
   },
   "execution_count": 9,
   "outputs": [
    {
     "data": {
      "text/plain": "0.8493021742209249"
     },
     "execution_count": 9,
     "metadata": {},
     "output_type": "execute_result"
    }
   ]
  },
  {
   "cell_type": "code",
   "execution_count": 11,
   "outputs": [],
   "source": [
    "# save model\n",
    "with open('../SavedModels/model_Rm.pkl', 'wb') as file:\n",
    "        pickle.dump(clf, file)"
   ],
   "metadata": {
    "collapsed": false,
    "pycharm": {
     "name": "#%%\n"
    }
   }
  },
  {
   "cell_type": "markdown",
   "source": [
    "## **Trial #2:**\n",
    "  - SVM\n",
    "\n",
    "  - https://machinelearningmastery.com/multi-output-regression-models-with-python/"
   ],
   "metadata": {
    "id": "k3RQZVo4hIcc"
   }
  },
  {
   "cell_type": "code",
   "source": [
    "# define base model\n",
    "model = SVR(kernel='poly', C=100, gamma='auto', degree=3, epsilon=.1,coef0=1)\n",
    "# define the direct multioutput wrapper model\n",
    "wrapper = MultiOutputRegressor(model)\n",
    "wrapper.fit(x_train, y_train)\n",
    "wrapper.predict(x_test)"
   ],
   "metadata": {
    "id": "t9IHukU-hLj5",
    "colab": {
     "base_uri": "https://localhost:8080/"
    },
    "outputId": "2c384d40-0d31-417d-a911-1bee5a68d448"
   },
   "execution_count": 12,
   "outputs": [
    {
     "data": {
      "text/plain": "array([[ -1.47333357, -13.51525501,   0.4511346 ],\n       [ -0.6954016 , -12.21263743,   3.54889648],\n       [ 76.39309442,  18.67392432,  20.40252423],\n       ...,\n       [ -2.25644212, -17.34918929,  -3.21295915],\n       [ 16.80148234,   2.87005993,  20.35237089],\n       [-54.18071901, -11.10747594,  20.74042037]])"
     },
     "execution_count": 12,
     "metadata": {},
     "output_type": "execute_result"
    }
   ]
  },
  {
   "cell_type": "code",
   "source": [
    "print(wrapper.score(x_train, y_train, sample_weight=None))\n",
    "print(wrapper.score(x_test, y_test, sample_weight=None))"
   ],
   "metadata": {
    "colab": {
     "base_uri": "https://localhost:8080/"
    },
    "id": "BrxehtREmbSU",
    "outputId": "321bd2c7-bec4-4c08-a49f-830331a287d6"
   },
   "execution_count": 14,
   "outputs": [
    {
     "name": "stdout",
     "output_type": "stream",
     "text": [
      "0.9431755167202324\n",
      "0.8297890379076357\n"
     ]
    }
   ]
  },
  {
   "cell_type": "code",
   "execution_count": 15,
   "outputs": [],
   "source": [
    "# save model\n",
    "with open('../SavedModels/model_svm.pkl', 'wb') as file:\n",
    "        pickle.dump(wrapper, file)"
   ],
   "metadata": {
    "collapsed": false,
    "pycharm": {
     "name": "#%%\n"
    }
   }
  },
  {
   "cell_type": "markdown",
   "source": [
    "## **Trial #3:**\n",
    "\n",
    "- GradientBoostingRegressor"
   ],
   "metadata": {
    "id": "Hs6LLTu3kmKk"
   }
  },
  {
   "cell_type": "code",
   "source": [
    "from sklearn.ensemble import GradientBoostingRegressor\n",
    "gbr = GradientBoostingRegressor(random_state=42,n_estimators=100,learning_rate=0.05)\n",
    "model = MultiOutputRegressor(estimator=gbr)"
   ],
   "metadata": {
    "id": "J5tZBI9fn0ny"
   },
   "execution_count": 16,
   "outputs": []
  },
  {
   "cell_type": "code",
   "source": [
    "model.fit(x_train, y_train)\n",
    "score = model.score(x_train, y_train)\n",
    "print(\"Training score:\", score)\n",
    "ypred = model.predict(x_test)\n",
    "model.score(x_test, y_test, sample_weight=None)"
   ],
   "metadata": {
    "colab": {
     "base_uri": "https://localhost:8080/"
    },
    "id": "rJsRBTFnn87w",
    "outputId": "d643fb60-23b8-4d39-ed1f-362a2152df0e"
   },
   "execution_count": 17,
   "outputs": [
    {
     "name": "stdout",
     "output_type": "stream",
     "text": [
      "Training score: 0.98825433442155\n"
     ]
    },
    {
     "data": {
      "text/plain": "0.8576349750525792"
     },
     "execution_count": 17,
     "metadata": {},
     "output_type": "execute_result"
    }
   ]
  },
  {
   "cell_type": "code",
   "execution_count": 18,
   "outputs": [],
   "source": [
    "# save model\n",
    "with open('../SavedModels/model_GB.pkl', 'wb') as file:\n",
    "        pickle.dump(model, file)"
   ],
   "metadata": {
    "collapsed": false,
    "pycharm": {
     "name": "#%%\n"
    }
   }
  },
  {
   "cell_type": "code",
   "source": [],
   "metadata": {
    "id": "FMOwqrZY5RwN"
   },
   "execution_count": null,
   "outputs": []
  }
 ]
}