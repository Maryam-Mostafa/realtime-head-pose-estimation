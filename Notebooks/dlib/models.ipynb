{
 "nbformat": 4,
 "nbformat_minor": 0,
 "metadata": {
  "colab": {
   "name": "Copy of model.ipynb",
   "provenance": [],
   "collapsed_sections": [],
   "include_colab_link": true
  },
  "kernelspec": {
   "name": "python3",
   "display_name": "Python 3"
  },
  "language_info": {
   "name": "python"
  }
 },
 "cells": [
  {
   "cell_type": "markdown",
   "metadata": {
    "id": "view-in-github",
    "colab_type": "text"
   },
   "source": [
    "<a href=\"https://colab.research.google.com/github/Yassmina-Abdo/realtime-head-pose-estimation/blob/main/Notebooks/models.ipynb\" target=\"_parent\"><img src=\"https://colab.research.google.com/assets/colab-badge.svg\" alt=\"Open In Colab\"/></a>"
   ]
  },
  {
   "cell_type": "code",
   "execution_count": 1,
   "metadata": {
    "id": "thCx11OGA9re",
    "colab": {
     "base_uri": "https://localhost:8080/"
    },
    "outputId": "23b33ddf-93b9-4cb5-c099-372c9cdd6c86"
   },
   "outputs": [
    {
     "output_type": "stream",
     "name": "stdout",
     "text": [
      "Drive already mounted at /content/drive; to attempt to forcibly remount, call drive.mount(\"/content/drive\", force_remount=True).\n"
     ]
    }
   ],
   "source": [
    "#from google.colab import drive\n",
    "#drive.mount('/content/drive')"
   ]
  },
  {
   "cell_type": "markdown",
   "source": [
    "## Liberaries"
   ],
   "metadata": {
    "id": "JIkUGP5zgFLZ"
   }
  },
  {
   "cell_type": "code",
   "source": [
    "import numpy as np\n",
    "import pickle\n",
    "import pandas as pd\n",
    "from sklearn.datasets import make_regression\n",
    "from sklearn.model_selection import train_test_split\n",
    "from sklearn.multioutput import MultiOutputRegressor\n",
    "from sklearn.ensemble import RandomForestRegressor\n",
    "from sklearn.svm import LinearSVR, SVR,SVC\n",
    "from sklearn.preprocessing import MinMaxScaler,StandardScaler"
   ],
   "metadata": {
    "id": "9C1KQNDYBwAC"
   },
   "execution_count": 1,
   "outputs": []
  },
  {
   "cell_type": "markdown",
   "source": [
    "## Reading the prepared dataset and split it"
   ],
   "metadata": {
    "id": "rePFWZ7DgJ4R"
   }
  },
  {
   "cell_type": "code",
   "source": [
    "path_local='../Data/media_with_angles.csv'\n",
    "path_drive='/content/drive/MyDrive/Head Pose Estimation ML Project/Dataset/Data/data68.csv'\n",
    "data =pd.read_csv(path_local)\n",
    "data.head()"
   ],
   "metadata": {
    "colab": {
     "base_uri": "https://localhost:8080/",
     "height": 299
    },
    "id": "720EacvKK8kk",
    "outputId": "a4f46135-e7cd-4d91-cfbe-29f2e5bddce2"
   },
   "execution_count": 2,
   "outputs": [
    {
     "data": {
      "text/plain": "      x1     x2     x3     x4     x5     x6     x7     x8     x9    x10  ...  \\\n0  247.0  265.0  248.0  254.0  268.0  265.0  253.0  177.0  253.0  256.0  ...   \n1  220.0  211.0  216.0  205.0  210.0  210.0  213.0  163.0  212.0  211.0  ...   \n2  188.0  171.0  188.0  173.0  168.0  171.0  182.0  174.0  182.0  178.0  ...   \n3  223.0  222.0  225.0  216.0  223.0  223.0  227.0  157.0  228.0  228.0  ...   \n4  219.0  227.0  223.0  222.0  229.0  230.0  232.0  165.0  234.0  236.0  ...   \n\n    y463   y464   y465   y466   y467   y468  image_name        yaw      pitch  \\\n0  292.0  228.0  231.0  234.0  223.0  219.0  image03195  41.555737  -8.044670   \n1  281.0  222.0  224.0  226.0  212.0  210.0  image03247 -13.392587  -6.686405   \n2  272.0  219.0  223.0  225.0  209.0  203.0  image03214 -76.223580   0.176040   \n3  297.0  213.0  219.0  224.0  197.0  193.0  image03238  -2.343783 -27.163183   \n4  288.0  218.0  221.0  224.0  213.0  210.0  image03236  11.787567 -13.828854   \n\n        roll  \n0 -10.008090  \n1   5.489456  \n2  20.775415  \n3   1.134514  \n4  -8.607656  \n\n[5 rows x 940 columns]",
      "text/html": "<div>\n<style scoped>\n    .dataframe tbody tr th:only-of-type {\n        vertical-align: middle;\n    }\n\n    .dataframe tbody tr th {\n        vertical-align: top;\n    }\n\n    .dataframe thead th {\n        text-align: right;\n    }\n</style>\n<table border=\"1\" class=\"dataframe\">\n  <thead>\n    <tr style=\"text-align: right;\">\n      <th></th>\n      <th>x1</th>\n      <th>x2</th>\n      <th>x3</th>\n      <th>x4</th>\n      <th>x5</th>\n      <th>x6</th>\n      <th>x7</th>\n      <th>x8</th>\n      <th>x9</th>\n      <th>x10</th>\n      <th>...</th>\n      <th>y463</th>\n      <th>y464</th>\n      <th>y465</th>\n      <th>y466</th>\n      <th>y467</th>\n      <th>y468</th>\n      <th>image_name</th>\n      <th>yaw</th>\n      <th>pitch</th>\n      <th>roll</th>\n    </tr>\n  </thead>\n  <tbody>\n    <tr>\n      <th>0</th>\n      <td>247.0</td>\n      <td>265.0</td>\n      <td>248.0</td>\n      <td>254.0</td>\n      <td>268.0</td>\n      <td>265.0</td>\n      <td>253.0</td>\n      <td>177.0</td>\n      <td>253.0</td>\n      <td>256.0</td>\n      <td>...</td>\n      <td>292.0</td>\n      <td>228.0</td>\n      <td>231.0</td>\n      <td>234.0</td>\n      <td>223.0</td>\n      <td>219.0</td>\n      <td>image03195</td>\n      <td>41.555737</td>\n      <td>-8.044670</td>\n      <td>-10.008090</td>\n    </tr>\n    <tr>\n      <th>1</th>\n      <td>220.0</td>\n      <td>211.0</td>\n      <td>216.0</td>\n      <td>205.0</td>\n      <td>210.0</td>\n      <td>210.0</td>\n      <td>213.0</td>\n      <td>163.0</td>\n      <td>212.0</td>\n      <td>211.0</td>\n      <td>...</td>\n      <td>281.0</td>\n      <td>222.0</td>\n      <td>224.0</td>\n      <td>226.0</td>\n      <td>212.0</td>\n      <td>210.0</td>\n      <td>image03247</td>\n      <td>-13.392587</td>\n      <td>-6.686405</td>\n      <td>5.489456</td>\n    </tr>\n    <tr>\n      <th>2</th>\n      <td>188.0</td>\n      <td>171.0</td>\n      <td>188.0</td>\n      <td>173.0</td>\n      <td>168.0</td>\n      <td>171.0</td>\n      <td>182.0</td>\n      <td>174.0</td>\n      <td>182.0</td>\n      <td>178.0</td>\n      <td>...</td>\n      <td>272.0</td>\n      <td>219.0</td>\n      <td>223.0</td>\n      <td>225.0</td>\n      <td>209.0</td>\n      <td>203.0</td>\n      <td>image03214</td>\n      <td>-76.223580</td>\n      <td>0.176040</td>\n      <td>20.775415</td>\n    </tr>\n    <tr>\n      <th>3</th>\n      <td>223.0</td>\n      <td>222.0</td>\n      <td>225.0</td>\n      <td>216.0</td>\n      <td>223.0</td>\n      <td>223.0</td>\n      <td>227.0</td>\n      <td>157.0</td>\n      <td>228.0</td>\n      <td>228.0</td>\n      <td>...</td>\n      <td>297.0</td>\n      <td>213.0</td>\n      <td>219.0</td>\n      <td>224.0</td>\n      <td>197.0</td>\n      <td>193.0</td>\n      <td>image03238</td>\n      <td>-2.343783</td>\n      <td>-27.163183</td>\n      <td>1.134514</td>\n    </tr>\n    <tr>\n      <th>4</th>\n      <td>219.0</td>\n      <td>227.0</td>\n      <td>223.0</td>\n      <td>222.0</td>\n      <td>229.0</td>\n      <td>230.0</td>\n      <td>232.0</td>\n      <td>165.0</td>\n      <td>234.0</td>\n      <td>236.0</td>\n      <td>...</td>\n      <td>288.0</td>\n      <td>218.0</td>\n      <td>221.0</td>\n      <td>224.0</td>\n      <td>213.0</td>\n      <td>210.0</td>\n      <td>image03236</td>\n      <td>11.787567</td>\n      <td>-13.828854</td>\n      <td>-8.607656</td>\n    </tr>\n  </tbody>\n</table>\n<p>5 rows × 940 columns</p>\n</div>"
     },
     "execution_count": 2,
     "metadata": {},
     "output_type": "execute_result"
    }
   ]
  },
  {
   "cell_type": "code",
   "source": [
    "X = data.iloc[:,:-4]\n",
    "X.head(1)"
   ],
   "metadata": {
    "colab": {
     "base_uri": "https://localhost:8080/",
     "height": 174
    },
    "id": "DKdNWBSgL8Mh",
    "outputId": "0b60c06c-c760-48f0-87c4-9f8282e2f103"
   },
   "execution_count": 3,
   "outputs": [
    {
     "data": {
      "text/plain": "      x1     x2     x3     x4     x5     x6     x7     x8     x9    x10  ...  \\\n0  247.0  265.0  248.0  254.0  268.0  265.0  253.0  177.0  253.0  256.0  ...   \n\n    y459   y460   y461   y462   y463   y464   y465   y466   y467   y468  \n0  290.0  287.0  290.0  291.0  292.0  228.0  231.0  234.0  223.0  219.0  \n\n[1 rows x 936 columns]",
      "text/html": "<div>\n<style scoped>\n    .dataframe tbody tr th:only-of-type {\n        vertical-align: middle;\n    }\n\n    .dataframe tbody tr th {\n        vertical-align: top;\n    }\n\n    .dataframe thead th {\n        text-align: right;\n    }\n</style>\n<table border=\"1\" class=\"dataframe\">\n  <thead>\n    <tr style=\"text-align: right;\">\n      <th></th>\n      <th>x1</th>\n      <th>x2</th>\n      <th>x3</th>\n      <th>x4</th>\n      <th>x5</th>\n      <th>x6</th>\n      <th>x7</th>\n      <th>x8</th>\n      <th>x9</th>\n      <th>x10</th>\n      <th>...</th>\n      <th>y459</th>\n      <th>y460</th>\n      <th>y461</th>\n      <th>y462</th>\n      <th>y463</th>\n      <th>y464</th>\n      <th>y465</th>\n      <th>y466</th>\n      <th>y467</th>\n      <th>y468</th>\n    </tr>\n  </thead>\n  <tbody>\n    <tr>\n      <th>0</th>\n      <td>247.0</td>\n      <td>265.0</td>\n      <td>248.0</td>\n      <td>254.0</td>\n      <td>268.0</td>\n      <td>265.0</td>\n      <td>253.0</td>\n      <td>177.0</td>\n      <td>253.0</td>\n      <td>256.0</td>\n      <td>...</td>\n      <td>290.0</td>\n      <td>287.0</td>\n      <td>290.0</td>\n      <td>291.0</td>\n      <td>292.0</td>\n      <td>228.0</td>\n      <td>231.0</td>\n      <td>234.0</td>\n      <td>223.0</td>\n      <td>219.0</td>\n    </tr>\n  </tbody>\n</table>\n<p>1 rows × 936 columns</p>\n</div>"
     },
     "execution_count": 3,
     "metadata": {},
     "output_type": "execute_result"
    }
   ]
  },
  {
   "cell_type": "code",
   "source": [
    "y = data.iloc[:,-3:]\n",
    "y.head(1)"
   ],
   "metadata": {
    "colab": {
     "base_uri": "https://localhost:8080/",
     "height": 81
    },
    "id": "H2J2HnY2MPzi",
    "outputId": "0238b9d0-649e-4b23-d42f-3c92c9b1cb40"
   },
   "execution_count": 8,
   "outputs": [
    {
     "data": {
      "text/plain": "         yaw    pitch      roll\n0  41.555737 -8.04467 -10.00809",
      "text/html": "<div>\n<style scoped>\n    .dataframe tbody tr th:only-of-type {\n        vertical-align: middle;\n    }\n\n    .dataframe tbody tr th {\n        vertical-align: top;\n    }\n\n    .dataframe thead th {\n        text-align: right;\n    }\n</style>\n<table border=\"1\" class=\"dataframe\">\n  <thead>\n    <tr style=\"text-align: right;\">\n      <th></th>\n      <th>yaw</th>\n      <th>pitch</th>\n      <th>roll</th>\n    </tr>\n  </thead>\n  <tbody>\n    <tr>\n      <th>0</th>\n      <td>41.555737</td>\n      <td>-8.04467</td>\n      <td>-10.00809</td>\n    </tr>\n  </tbody>\n</table>\n</div>"
     },
     "execution_count": 8,
     "metadata": {},
     "output_type": "execute_result"
    }
   ]
  },
  {
   "cell_type": "markdown",
   "source": [
    "## Scaling"
   ],
   "metadata": {
    "id": "stq3pe5k4c9F"
   }
  },
  {
   "cell_type": "code",
   "source": [
    "scaler = StandardScaler()\n",
    "x_scaled = scaler.fit_transform(X)"
   ],
   "metadata": {
    "id": "uEFcBj-hxfoA"
   },
   "execution_count": 6,
   "outputs": []
  },
  {
   "cell_type": "code",
   "source": [
    "x_train, x_test, y_train, y_test = train_test_split(X, y, test_size=0.20, random_state=42, shuffle=True)"
   ],
   "metadata": {
    "id": "i6R3wwE8MmRf"
   },
   "execution_count": 9,
   "outputs": []
  },
  {
   "cell_type": "markdown",
   "source": [
    "## **Trial #1:**\n",
    "\n",
    "- MultiOutputRegressor with RandomForestRegressor\n",
    "\n",
    "\n",
    "> https://www.r-bloggers.com/2021/10/multi-output-regression-using-sklearn/\n",
    "\n",
    "\n",
    "\n"
   ],
   "metadata": {
    "id": "6JavhCARgXmh"
   }
  },
  {
   "cell_type": "code",
   "source": [
    "clf = MultiOutputRegressor(RandomForestRegressor(max_depth=12, random_state=42,n_estimators=300,min_samples_split=4))\n",
    "clf.fit(x_train, y_train)\n",
    "clf.score(x_train, y_train, sample_weight=None)"
   ],
   "metadata": {
    "colab": {
     "base_uri": "https://localhost:8080/"
    },
    "id": "ph1PoGNBL106",
    "outputId": "6bd99473-42ca-4ce3-a38f-dc03d9fbcacf"
   },
   "execution_count": 10,
   "outputs": [
    {
     "data": {
      "text/plain": "0.9404599820425669"
     },
     "execution_count": 10,
     "metadata": {},
     "output_type": "execute_result"
    }
   ]
  },
  {
   "cell_type": "code",
   "source": [
    "y_pred= clf.predict(x_test)\n",
    "clf.score(x_test, y_test, sample_weight=None)"
   ],
   "metadata": {
    "colab": {
     "base_uri": "https://localhost:8080/"
    },
    "id": "-1A-UxCffgra",
    "outputId": "6416b4eb-c81b-4623-e3b8-92b2d4fad43a"
   },
   "execution_count": 11,
   "outputs": [
    {
     "data": {
      "text/plain": "0.660921289721109"
     },
     "execution_count": 11,
     "metadata": {},
     "output_type": "execute_result"
    }
   ]
  },
  {
   "cell_type": "code",
   "execution_count": 12,
   "outputs": [],
   "source": [
    "# save model\n",
    "with open('../SavedModels/model_Rm.pkl', 'wb') as file:\n",
    "        pickle.dump(clf, file)"
   ],
   "metadata": {
    "collapsed": false,
    "pycharm": {
     "name": "#%%\n"
    }
   }
  },
  {
   "cell_type": "markdown",
   "source": [
    "## **Trial #2:**\n",
    "  - SVM\n",
    "\n",
    "  - https://machinelearningmastery.com/multi-output-regression-models-with-python/"
   ],
   "metadata": {
    "id": "k3RQZVo4hIcc"
   }
  },
  {
   "cell_type": "code",
   "source": [
    "# define base model\n",
    "model = SVR(kernel='poly', C=100, gamma='auto', degree=3, epsilon=.1,coef0=1)\n",
    "# define the direct multioutput wrapper model\n",
    "wrapper = MultiOutputRegressor(model)\n",
    "wrapper.fit(x_train, y_train)\n",
    "wrapper.predict(x_test)"
   ],
   "metadata": {
    "id": "t9IHukU-hLj5",
    "colab": {
     "base_uri": "https://localhost:8080/"
    },
    "outputId": "2c384d40-0d31-417d-a911-1bee5a68d448",
    "pycharm": {
     "is_executing": true
    }
   },
   "execution_count": null,
   "outputs": []
  },
  {
   "cell_type": "code",
   "source": [
    "print(wrapper.score(x_train, y_train, sample_weight=None))\n",
    "print(wrapper.score(x_test, y_test, sample_weight=None))"
   ],
   "metadata": {
    "colab": {
     "base_uri": "https://localhost:8080/"
    },
    "id": "BrxehtREmbSU",
    "outputId": "321bd2c7-bec4-4c08-a49f-830331a287d6",
    "pycharm": {
     "is_executing": true
    }
   },
   "execution_count": null,
   "outputs": []
  },
  {
   "cell_type": "code",
   "execution_count": 15,
   "outputs": [],
   "source": [
    "# save model\n",
    "with open('../SavedModels/model_svm.pkl', 'wb') as file:\n",
    "        pickle.dump(wrapper, file)"
   ],
   "metadata": {
    "collapsed": false,
    "pycharm": {
     "name": "#%%\n"
    }
   }
  },
  {
   "cell_type": "markdown",
   "source": [
    "## **Trial #3:**\n",
    "\n",
    "- GradientBoostingRegressor"
   ],
   "metadata": {
    "id": "Hs6LLTu3kmKk"
   }
  },
  {
   "cell_type": "code",
   "source": [
    "from sklearn.ensemble import GradientBoostingRegressor\n",
    "gbr = GradientBoostingRegressor(random_state=42,n_estimators=100,learning_rate=0.05)\n",
    "model = MultiOutputRegressor(estimator=gbr)"
   ],
   "metadata": {
    "id": "J5tZBI9fn0ny"
   },
   "execution_count": 16,
   "outputs": []
  },
  {
   "cell_type": "code",
   "source": [
    "model.fit(x_train, y_train)\n",
    "score = model.score(x_train, y_train)\n",
    "print(\"Training score:\", score)\n",
    "ypred = model.predict(x_test)\n",
    "model.score(x_test, y_test, sample_weight=None)"
   ],
   "metadata": {
    "colab": {
     "base_uri": "https://localhost:8080/"
    },
    "id": "rJsRBTFnn87w",
    "outputId": "d643fb60-23b8-4d39-ed1f-362a2152df0e"
   },
   "execution_count": 17,
   "outputs": [
    {
     "name": "stdout",
     "output_type": "stream",
     "text": [
      "Training score: 0.98825433442155\n"
     ]
    },
    {
     "data": {
      "text/plain": "0.8576349750525792"
     },
     "execution_count": 17,
     "metadata": {},
     "output_type": "execute_result"
    }
   ]
  },
  {
   "cell_type": "code",
   "execution_count": 18,
   "outputs": [],
   "source": [
    "# save model\n",
    "with open('../SavedModels/model_GB.pkl', 'wb') as file:\n",
    "        pickle.dump(model, file)"
   ],
   "metadata": {
    "collapsed": false,
    "pycharm": {
     "name": "#%%\n"
    }
   }
  },
  {
   "cell_type": "code",
   "source": [],
   "metadata": {
    "id": "FMOwqrZY5RwN"
   },
   "execution_count": null,
   "outputs": []
  }
 ]
}