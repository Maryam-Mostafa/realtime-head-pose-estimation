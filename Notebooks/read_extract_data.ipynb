{
  "nbformat": 4,
  "nbformat_minor": 0,
  "metadata": {
    "colab": {
      "name": "read_extract_data.ipynb",
      "provenance": [],
      "collapsed_sections": [],
      "authorship_tag": "ABX9TyMmhWDo7MK+QBgx2Bmmql+W",
      "include_colab_link": true
    },
    "kernelspec": {
      "name": "python3",
      "display_name": "Python 3"
    },
    "language_info": {
      "name": "python"
    }
  },
  "cells": [
    {
      "cell_type": "markdown",
      "metadata": {
        "id": "view-in-github",
        "colab_type": "text"
      },
      "source": [
        "<a href=\"https://colab.research.google.com/github/Yassmina-Abdo/realtime-head-pose-estimation/blob/main/Notebooks/read_extract_data.ipynb\" target=\"_parent\"><img src=\"https://colab.research.google.com/assets/colab-badge.svg\" alt=\"Open In Colab\"/></a>"
      ]
    },
    {
      "cell_type": "code",
      "execution_count": null,
      "metadata": {
        "id": "thCx11OGA9re",
        "colab": {
          "base_uri": "https://localhost:8080/"
        },
        "outputId": "ba61daf2-bd9e-4828-eb96-d63e84e75237"
      },
      "outputs": [
        {
          "output_type": "stream",
          "name": "stdout",
          "text": [
            "Mounted at /content/drive\n"
          ]
        }
      ],
      "source": [
        "from google.colab import drive\n",
        "drive.mount('/content/drive')"
      ]
    },
    {
      "cell_type": "code",
      "source": [
        "import scipy.io\n",
        "import numpy as np\n",
        "import pandas as pd\n",
        "import math\n",
        "import glob\n",
        "import os"
      ],
      "metadata": {
        "id": "9C1KQNDYBwAC"
      },
      "execution_count": null,
      "outputs": []
    },
    {
      "cell_type": "markdown",
      "source": [
        "## Read Matlab"
      ],
      "metadata": {
        "id": "4dz8BuaZA-ob"
      }
    },
    {
      "cell_type": "code",
      "source": [
        "def read_matfile(path):\n",
        "  mat = scipy.io.loadmat(path)\n",
        "  #print(mat.keys())\n",
        "  return mat"
      ],
      "metadata": {
        "id": "bKQ1SVGKxNTJ"
      },
      "execution_count": null,
      "outputs": []
    },
    {
      "cell_type": "markdown",
      "source": [
        "## Find Yaw Pitch Roll"
      ],
      "metadata": {
        "id": "5-DHEzg5t9G0"
      }
    },
    {
      "cell_type": "code",
      "source": [
        "def get_ypr(mat):\n",
        "  pose_para= mat['Pose_Para']\n",
        "  pitch = pose_para[0][0] * 180 / math.pi\n",
        "  yaw = pose_para[0][1] * 180 / math.pi\n",
        "  roll = pose_para[0][2] * 180 / math.pi\n",
        "  return np.array([yaw, pitch, roll],dtype=np.float32)"
      ],
      "metadata": {
        "id": "Kiim2IDuwyde"
      },
      "execution_count": null,
      "outputs": []
    },
    {
      "cell_type": "markdown",
      "source": [
        "## Get XYZ of Nose From Yaw Pitch Roll"
      ],
      "metadata": {
        "id": "1ODfnYOct99m"
      }
    },
    {
      "cell_type": "code",
      "source": [
        "def get_xyz(ypr):\n",
        "  bins = np.array(range(-99, 102, 3))\n",
        "  xyz =np.digitize([ypr[0], ypr[1], ypr[2]], bins) - 1\n",
        "  return list(xyz)\n"
      ],
      "metadata": {
        "id": "IVfMx0KaJYuI"
      },
      "execution_count": null,
      "outputs": []
    },
    {
      "cell_type": "markdown",
      "source": [
        "## Get 68 points "
      ],
      "metadata": {
        "id": "oqaOUYUjYIs4"
      }
    },
    {
      "cell_type": "code",
      "source": [
        "def get_68pts(mat):\n",
        "  pt3d_68 =np.array(np.transpose(mat['pt3d_68']).astype('float'),dtype=np.float32).reshape(-1,3)\n",
        "  pts_x= pt3d_68[:,:-1][:,0]\n",
        "  pts_y= pt3d_68[:,:-1][:,1]\n",
        "  return list(pts_x),list(pts_y)\n"
      ],
      "metadata": {
        "id": "SyGiiwfv-787"
      },
      "execution_count": null,
      "outputs": []
    },
    {
      "cell_type": "markdown",
      "source": [
        "## Apply on all matlap files"
      ],
      "metadata": {
        "id": "sr41oJDUt_ti"
      }
    },
    {
      "cell_type": "code",
      "source": [
        "def apply_allfiles(path):\n",
        "  xyzlist,yprlist,imgnolist,xslist,yslist=[],[],[],[],[]\n",
        "  for file in glob.glob(path+'/*.mat'):\n",
        "    #1. save mat file no\n",
        "    img_no, _ = os.path.splitext(os.path.basename(file))\n",
        "    imgnolist.append(img_no)\n",
        "    #2. read mat file\n",
        "    mat=read_matfile(file)\n",
        "    #3. get yaw, pitch, roll\n",
        "    ypr=get_ypr(mat)\n",
        "    yprlist.append(ypr)\n",
        "    #4. get x, y, z points from ypr\n",
        "    xyzlist.append(get_xyz(ypr))\n",
        "    #5. get 68 2d points\n",
        "    pts_x,pts_y=get_68pts(mat)\n",
        "    xslist.append(pts_x),yslist.append(pts_y)\n",
        "  return xyzlist,yprlist,imgnolist,xslist,yslist"
      ],
      "metadata": {
        "id": "XTln_YE-tQ3E"
      },
      "execution_count": null,
      "outputs": []
    },
    {
      "cell_type": "markdown",
      "source": [
        "## Run"
      ],
      "metadata": {
        "id": "sdfDIU0TublT"
      }
    },
    {
      "cell_type": "code",
      "source": [
        "# try one file\n",
        "path='/content/drive/MyDrive/Head Pose Estimation ML Project/Dataset/Images/image00002.mat'\n",
        "mat=read_matfile(path)\n",
        "ypr=get_ypr(mat)\n",
        "print(ypr)\n",
        "xyz= get_xyz(ypr)\n",
        "print(xyz)\n",
        "pts_x,pts_y=get_68pts(mat)\n",
        "print(pts_x)\n",
        "print(pts_y)"
      ],
      "metadata": {
        "colab": {
          "base_uri": "https://localhost:8080/"
        },
        "id": "BdF5cRVMiztV",
        "outputId": "663004b0-6207-4cef-9f83-bd0798a3b674"
      },
      "execution_count": null,
      "outputs": [
        {
          "output_type": "stream",
          "name": "stdout",
          "text": [
            "[  1.044306  -22.874239    4.9088855]\n",
            "[33, 25, 34]\n",
            "[121.868034, 122.36761, 126.81924, 130.83179, 137.52313, 148.52173, 161.52802, 182.87668, 213.94006, 248.00537, 274.67615, 293.22473, 309.20724, 321.27457, 329.8783, 339.07126, 345.24066, 144.61288, 158.1359, 175.37297, 191.31126, 205.48387, 261.70496, 277.2635, 294.11136, 311.59164, 323.95364, 231.0957, 229.7904, 227.30476, 225.08842, 202.42142, 210.7933, 222.43806, 235.00792, 244.54094, 162.57912, 173.47615, 188.50098, 201.39299, 188.09201, 172.65819, 260.8649, 275.8604, 291.34073, 301.85168, 289.989, 273.8536, 180.50743, 192.32265, 209.19904, 218.46085, 228.46553, 248.99286, 261.81235, 243.97612, 228.25139, 212.72568, 199.55211, 189.6707, 183.1438, 204.32584, 216.49344, 229.86984, 259.4672, 227.68747, 213.52979, 201.8233]\n",
            "[167.16422, 197.56262, 225.46965, 250.7149, 280.12787, 309.3874, 337.00238, 362.09814, 375.7305, 368.01422, 348.17438, 323.2857, 294.21448, 265.26617, 241.45877, 215.72095, 186.54291, 175.97385, 176.80212, 180.40875, 188.0712, 196.85168, 198.67287, 192.65588, 188.41934, 188.23889, 190.74524, 222.19415, 243.34904, 265.4165, 281.8034, 276.56088, 282.3915, 288.25348, 287.44534, 284.47778, 199.64758, 195.382, 196.37279, 206.68912, 211.50684, 209.18712, 212.65443, 206.23248, 207.79417, 212.36467, 219.46153, 218.51997, 305.17462, 303.28586, 303.62653, 307.22177, 307.03314, 313.85858, 322.6597, 335.26935, 340.52222, 340.40427, 335.78973, 324.6136, 305.33856, 310.14905, 313.23386, 315.10712, 322.3846, 330.96558, 330.70197, 324.90387]\n"
          ]
        }
      ]
    },
    {
      "cell_type": "code",
      "source": [
        "# run\n",
        "path='/content/drive/MyDrive/Head Pose Estimation ML Project/Dataset/Images'\n",
        "xyzlist,yprlist,imgnolist,xslist,yslist= apply_allfiles(path)"
      ],
      "metadata": {
        "id": "QMOf6UD2jId5"
      },
      "execution_count": null,
      "outputs": []
    },
    {
      "cell_type": "code",
      "source": [
        "#save output--68 points file\n",
        "colsx=  ['x' + str(i + 1) for i in range(68)]\n",
        "colsy=  ['y' + str(i + 1) for i in range(68)]\n",
        "dfx=pd.DataFrame(xslist,columns=colsx)\n",
        "dfy=pd.DataFrame(yslist,columns=colsy)\n",
        "df68 = pd.DataFrame(pd.concat([ dfx,dfy,pd.DataFrame(yprlist,columns=['yaw','pitch','roll']),pd.DataFrame(imgnolist,columns=['img']) ],axis=1))\n",
        "df68.to_csv('/content/drive/MyDrive/Head Pose Estimation ML Project/Dataset/Data/data68.csv',index=False)\n",
        "df68.head(5)"
      ],
      "metadata": {
        "colab": {
          "base_uri": "https://localhost:8080/",
          "height": 299
        },
        "id": "MUdWlaUKGYO0",
        "outputId": "f00f8b30-3cf6-42d3-be53-5882dedba850"
      },
      "execution_count": null,
      "outputs": [
        {
          "output_type": "execute_result",
          "data": {
            "text/plain": [
              "           x1          x2          x3          x4          x5          x6  \\\n",
              "0  279.052826  281.675476  285.686768  287.899536  284.693176  275.745636   \n",
              "1  106.787560  107.119347  111.299889  115.847366  124.116203  140.815125   \n",
              "2  123.746597  123.771423  123.467773  127.416306  139.268936  162.470306   \n",
              "3  241.903885  241.499512  242.883118  242.789642  240.464447  236.202087   \n",
              "4  106.616531  113.848152  124.366989  134.661163  146.942078  164.044769   \n",
              "\n",
              "           x7          x8          x9         x10  ...         y63  \\\n",
              "0  261.695312  252.671860  252.653046  264.918823  ...  309.331512   \n",
              "1  161.302399  185.516815  216.908142  245.068054  ...  304.527283   \n",
              "2  190.685974  213.837158  222.323654  212.371353  ...  316.445892   \n",
              "3  231.278656  229.640961  238.733490  256.186890  ...  298.079254   \n",
              "4  182.504761  206.717743  243.180405  279.360138  ...  316.608398   \n",
              "\n",
              "          y64         y65         y66         y67         y68        yaw  \\\n",
              "0  311.984436  318.515625  319.202942  317.465210  313.993927  69.062935   \n",
              "1  305.674316  307.284821  319.076294  319.093506  316.208160 -13.392587   \n",
              "2  320.295105  330.613098  324.621582  320.403107  315.176819 -82.824692   \n",
              "3  300.004547  305.236816  304.317688  302.941620  300.311035  47.252384   \n",
              "4  315.733551  318.128784  319.939484  322.061279  323.020477   3.578812   \n",
              "\n",
              "       pitch       roll         img  \n",
              "0 -48.795551 -31.882296  image03258  \n",
              "1  -6.686405   5.489456  image03247  \n",
              "2 -31.047533  61.351288  image03252  \n",
              "3 -21.523932   0.100378  image03237  \n",
              "4   5.349906  -7.209053  image03250  \n",
              "\n",
              "[5 rows x 140 columns]"
            ],
            "text/html": [
              "\n",
              "  <div id=\"df-f25927be-516a-4377-b537-683f6bbdd786\">\n",
              "    <div class=\"colab-df-container\">\n",
              "      <div>\n",
              "<style scoped>\n",
              "    .dataframe tbody tr th:only-of-type {\n",
              "        vertical-align: middle;\n",
              "    }\n",
              "\n",
              "    .dataframe tbody tr th {\n",
              "        vertical-align: top;\n",
              "    }\n",
              "\n",
              "    .dataframe thead th {\n",
              "        text-align: right;\n",
              "    }\n",
              "</style>\n",
              "<table border=\"1\" class=\"dataframe\">\n",
              "  <thead>\n",
              "    <tr style=\"text-align: right;\">\n",
              "      <th></th>\n",
              "      <th>x1</th>\n",
              "      <th>x2</th>\n",
              "      <th>x3</th>\n",
              "      <th>x4</th>\n",
              "      <th>x5</th>\n",
              "      <th>x6</th>\n",
              "      <th>x7</th>\n",
              "      <th>x8</th>\n",
              "      <th>x9</th>\n",
              "      <th>x10</th>\n",
              "      <th>...</th>\n",
              "      <th>y63</th>\n",
              "      <th>y64</th>\n",
              "      <th>y65</th>\n",
              "      <th>y66</th>\n",
              "      <th>y67</th>\n",
              "      <th>y68</th>\n",
              "      <th>yaw</th>\n",
              "      <th>pitch</th>\n",
              "      <th>roll</th>\n",
              "      <th>img</th>\n",
              "    </tr>\n",
              "  </thead>\n",
              "  <tbody>\n",
              "    <tr>\n",
              "      <th>0</th>\n",
              "      <td>279.052826</td>\n",
              "      <td>281.675476</td>\n",
              "      <td>285.686768</td>\n",
              "      <td>287.899536</td>\n",
              "      <td>284.693176</td>\n",
              "      <td>275.745636</td>\n",
              "      <td>261.695312</td>\n",
              "      <td>252.671860</td>\n",
              "      <td>252.653046</td>\n",
              "      <td>264.918823</td>\n",
              "      <td>...</td>\n",
              "      <td>309.331512</td>\n",
              "      <td>311.984436</td>\n",
              "      <td>318.515625</td>\n",
              "      <td>319.202942</td>\n",
              "      <td>317.465210</td>\n",
              "      <td>313.993927</td>\n",
              "      <td>69.062935</td>\n",
              "      <td>-48.795551</td>\n",
              "      <td>-31.882296</td>\n",
              "      <td>image03258</td>\n",
              "    </tr>\n",
              "    <tr>\n",
              "      <th>1</th>\n",
              "      <td>106.787560</td>\n",
              "      <td>107.119347</td>\n",
              "      <td>111.299889</td>\n",
              "      <td>115.847366</td>\n",
              "      <td>124.116203</td>\n",
              "      <td>140.815125</td>\n",
              "      <td>161.302399</td>\n",
              "      <td>185.516815</td>\n",
              "      <td>216.908142</td>\n",
              "      <td>245.068054</td>\n",
              "      <td>...</td>\n",
              "      <td>304.527283</td>\n",
              "      <td>305.674316</td>\n",
              "      <td>307.284821</td>\n",
              "      <td>319.076294</td>\n",
              "      <td>319.093506</td>\n",
              "      <td>316.208160</td>\n",
              "      <td>-13.392587</td>\n",
              "      <td>-6.686405</td>\n",
              "      <td>5.489456</td>\n",
              "      <td>image03247</td>\n",
              "    </tr>\n",
              "    <tr>\n",
              "      <th>2</th>\n",
              "      <td>123.746597</td>\n",
              "      <td>123.771423</td>\n",
              "      <td>123.467773</td>\n",
              "      <td>127.416306</td>\n",
              "      <td>139.268936</td>\n",
              "      <td>162.470306</td>\n",
              "      <td>190.685974</td>\n",
              "      <td>213.837158</td>\n",
              "      <td>222.323654</td>\n",
              "      <td>212.371353</td>\n",
              "      <td>...</td>\n",
              "      <td>316.445892</td>\n",
              "      <td>320.295105</td>\n",
              "      <td>330.613098</td>\n",
              "      <td>324.621582</td>\n",
              "      <td>320.403107</td>\n",
              "      <td>315.176819</td>\n",
              "      <td>-82.824692</td>\n",
              "      <td>-31.047533</td>\n",
              "      <td>61.351288</td>\n",
              "      <td>image03252</td>\n",
              "    </tr>\n",
              "    <tr>\n",
              "      <th>3</th>\n",
              "      <td>241.903885</td>\n",
              "      <td>241.499512</td>\n",
              "      <td>242.883118</td>\n",
              "      <td>242.789642</td>\n",
              "      <td>240.464447</td>\n",
              "      <td>236.202087</td>\n",
              "      <td>231.278656</td>\n",
              "      <td>229.640961</td>\n",
              "      <td>238.733490</td>\n",
              "      <td>256.186890</td>\n",
              "      <td>...</td>\n",
              "      <td>298.079254</td>\n",
              "      <td>300.004547</td>\n",
              "      <td>305.236816</td>\n",
              "      <td>304.317688</td>\n",
              "      <td>302.941620</td>\n",
              "      <td>300.311035</td>\n",
              "      <td>47.252384</td>\n",
              "      <td>-21.523932</td>\n",
              "      <td>0.100378</td>\n",
              "      <td>image03237</td>\n",
              "    </tr>\n",
              "    <tr>\n",
              "      <th>4</th>\n",
              "      <td>106.616531</td>\n",
              "      <td>113.848152</td>\n",
              "      <td>124.366989</td>\n",
              "      <td>134.661163</td>\n",
              "      <td>146.942078</td>\n",
              "      <td>164.044769</td>\n",
              "      <td>182.504761</td>\n",
              "      <td>206.717743</td>\n",
              "      <td>243.180405</td>\n",
              "      <td>279.360138</td>\n",
              "      <td>...</td>\n",
              "      <td>316.608398</td>\n",
              "      <td>315.733551</td>\n",
              "      <td>318.128784</td>\n",
              "      <td>319.939484</td>\n",
              "      <td>322.061279</td>\n",
              "      <td>323.020477</td>\n",
              "      <td>3.578812</td>\n",
              "      <td>5.349906</td>\n",
              "      <td>-7.209053</td>\n",
              "      <td>image03250</td>\n",
              "    </tr>\n",
              "  </tbody>\n",
              "</table>\n",
              "<p>5 rows × 140 columns</p>\n",
              "</div>\n",
              "      <button class=\"colab-df-convert\" onclick=\"convertToInteractive('df-f25927be-516a-4377-b537-683f6bbdd786')\"\n",
              "              title=\"Convert this dataframe to an interactive table.\"\n",
              "              style=\"display:none;\">\n",
              "        \n",
              "  <svg xmlns=\"http://www.w3.org/2000/svg\" height=\"24px\"viewBox=\"0 0 24 24\"\n",
              "       width=\"24px\">\n",
              "    <path d=\"M0 0h24v24H0V0z\" fill=\"none\"/>\n",
              "    <path d=\"M18.56 5.44l.94 2.06.94-2.06 2.06-.94-2.06-.94-.94-2.06-.94 2.06-2.06.94zm-11 1L8.5 8.5l.94-2.06 2.06-.94-2.06-.94L8.5 2.5l-.94 2.06-2.06.94zm10 10l.94 2.06.94-2.06 2.06-.94-2.06-.94-.94-2.06-.94 2.06-2.06.94z\"/><path d=\"M17.41 7.96l-1.37-1.37c-.4-.4-.92-.59-1.43-.59-.52 0-1.04.2-1.43.59L10.3 9.45l-7.72 7.72c-.78.78-.78 2.05 0 2.83L4 21.41c.39.39.9.59 1.41.59.51 0 1.02-.2 1.41-.59l7.78-7.78 2.81-2.81c.8-.78.8-2.07 0-2.86zM5.41 20L4 18.59l7.72-7.72 1.47 1.35L5.41 20z\"/>\n",
              "  </svg>\n",
              "      </button>\n",
              "      \n",
              "  <style>\n",
              "    .colab-df-container {\n",
              "      display:flex;\n",
              "      flex-wrap:wrap;\n",
              "      gap: 12px;\n",
              "    }\n",
              "\n",
              "    .colab-df-convert {\n",
              "      background-color: #E8F0FE;\n",
              "      border: none;\n",
              "      border-radius: 50%;\n",
              "      cursor: pointer;\n",
              "      display: none;\n",
              "      fill: #1967D2;\n",
              "      height: 32px;\n",
              "      padding: 0 0 0 0;\n",
              "      width: 32px;\n",
              "    }\n",
              "\n",
              "    .colab-df-convert:hover {\n",
              "      background-color: #E2EBFA;\n",
              "      box-shadow: 0px 1px 2px rgba(60, 64, 67, 0.3), 0px 1px 3px 1px rgba(60, 64, 67, 0.15);\n",
              "      fill: #174EA6;\n",
              "    }\n",
              "\n",
              "    [theme=dark] .colab-df-convert {\n",
              "      background-color: #3B4455;\n",
              "      fill: #D2E3FC;\n",
              "    }\n",
              "\n",
              "    [theme=dark] .colab-df-convert:hover {\n",
              "      background-color: #434B5C;\n",
              "      box-shadow: 0px 1px 3px 1px rgba(0, 0, 0, 0.15);\n",
              "      filter: drop-shadow(0px 1px 2px rgba(0, 0, 0, 0.3));\n",
              "      fill: #FFFFFF;\n",
              "    }\n",
              "  </style>\n",
              "\n",
              "      <script>\n",
              "        const buttonEl =\n",
              "          document.querySelector('#df-f25927be-516a-4377-b537-683f6bbdd786 button.colab-df-convert');\n",
              "        buttonEl.style.display =\n",
              "          google.colab.kernel.accessAllowed ? 'block' : 'none';\n",
              "\n",
              "        async function convertToInteractive(key) {\n",
              "          const element = document.querySelector('#df-f25927be-516a-4377-b537-683f6bbdd786');\n",
              "          const dataTable =\n",
              "            await google.colab.kernel.invokeFunction('convertToInteractive',\n",
              "                                                     [key], {});\n",
              "          if (!dataTable) return;\n",
              "\n",
              "          const docLinkHtml = 'Like what you see? Visit the ' +\n",
              "            '<a target=\"_blank\" href=https://colab.research.google.com/notebooks/data_table.ipynb>data table notebook</a>'\n",
              "            + ' to learn more about interactive tables.';\n",
              "          element.innerHTML = '';\n",
              "          dataTable['output_type'] = 'display_data';\n",
              "          await google.colab.output.renderOutput(dataTable, element);\n",
              "          const docLink = document.createElement('div');\n",
              "          docLink.innerHTML = docLinkHtml;\n",
              "          element.appendChild(docLink);\n",
              "        }\n",
              "      </script>\n",
              "    </div>\n",
              "  </div>\n",
              "  "
            ]
          },
          "metadata": {},
          "execution_count": 82
        }
      ]
    },
    {
      "cell_type": "code",
      "source": [
        "#save output-- nose points\n",
        "cols=['x','y','z','yaw','pitch','roll','img']\n",
        "df_nose = pd.DataFrame(pd.concat([ pd.DataFrame(xyzlist),pd.DataFrame(yprlist),pd.DataFrame(imgnolist) ],axis=1))\n",
        "df_nose.columns=cols\n",
        "df_nose.to_csv('/content/drive/MyDrive/Head Pose Estimation ML Project/Dataset/Data/nose_data.csv',index=False)\n",
        "df_nose.head(5)"
      ],
      "metadata": {
        "id": "d8xosYwEs6Qg",
        "colab": {
          "base_uri": "https://localhost:8080/",
          "height": 206
        },
        "outputId": "55d702cd-77fd-4dee-905b-5f632185ccc5"
      },
      "execution_count": null,
      "outputs": [
        {
          "output_type": "execute_result",
          "data": {
            "text/plain": [
              "    x   y   z        yaw      pitch       roll         img\n",
              "0  56  16  22  69.062935 -48.795551 -31.882296  image03258\n",
              "1  28  30  34 -13.392587  -6.686405   5.489456  image03247\n",
              "2   5  22  53 -82.824692 -31.047533  61.351288  image03252\n",
              "3  48  25  33  47.252384 -21.523932   0.100378  image03237\n",
              "4  34  34  30   3.578812   5.349906  -7.209053  image03250"
            ],
            "text/html": [
              "\n",
              "  <div id=\"df-d9112b22-60f0-46bd-8210-598bb4c62d90\">\n",
              "    <div class=\"colab-df-container\">\n",
              "      <div>\n",
              "<style scoped>\n",
              "    .dataframe tbody tr th:only-of-type {\n",
              "        vertical-align: middle;\n",
              "    }\n",
              "\n",
              "    .dataframe tbody tr th {\n",
              "        vertical-align: top;\n",
              "    }\n",
              "\n",
              "    .dataframe thead th {\n",
              "        text-align: right;\n",
              "    }\n",
              "</style>\n",
              "<table border=\"1\" class=\"dataframe\">\n",
              "  <thead>\n",
              "    <tr style=\"text-align: right;\">\n",
              "      <th></th>\n",
              "      <th>x</th>\n",
              "      <th>y</th>\n",
              "      <th>z</th>\n",
              "      <th>yaw</th>\n",
              "      <th>pitch</th>\n",
              "      <th>roll</th>\n",
              "      <th>img</th>\n",
              "    </tr>\n",
              "  </thead>\n",
              "  <tbody>\n",
              "    <tr>\n",
              "      <th>0</th>\n",
              "      <td>56</td>\n",
              "      <td>16</td>\n",
              "      <td>22</td>\n",
              "      <td>69.062935</td>\n",
              "      <td>-48.795551</td>\n",
              "      <td>-31.882296</td>\n",
              "      <td>image03258</td>\n",
              "    </tr>\n",
              "    <tr>\n",
              "      <th>1</th>\n",
              "      <td>28</td>\n",
              "      <td>30</td>\n",
              "      <td>34</td>\n",
              "      <td>-13.392587</td>\n",
              "      <td>-6.686405</td>\n",
              "      <td>5.489456</td>\n",
              "      <td>image03247</td>\n",
              "    </tr>\n",
              "    <tr>\n",
              "      <th>2</th>\n",
              "      <td>5</td>\n",
              "      <td>22</td>\n",
              "      <td>53</td>\n",
              "      <td>-82.824692</td>\n",
              "      <td>-31.047533</td>\n",
              "      <td>61.351288</td>\n",
              "      <td>image03252</td>\n",
              "    </tr>\n",
              "    <tr>\n",
              "      <th>3</th>\n",
              "      <td>48</td>\n",
              "      <td>25</td>\n",
              "      <td>33</td>\n",
              "      <td>47.252384</td>\n",
              "      <td>-21.523932</td>\n",
              "      <td>0.100378</td>\n",
              "      <td>image03237</td>\n",
              "    </tr>\n",
              "    <tr>\n",
              "      <th>4</th>\n",
              "      <td>34</td>\n",
              "      <td>34</td>\n",
              "      <td>30</td>\n",
              "      <td>3.578812</td>\n",
              "      <td>5.349906</td>\n",
              "      <td>-7.209053</td>\n",
              "      <td>image03250</td>\n",
              "    </tr>\n",
              "  </tbody>\n",
              "</table>\n",
              "</div>\n",
              "      <button class=\"colab-df-convert\" onclick=\"convertToInteractive('df-d9112b22-60f0-46bd-8210-598bb4c62d90')\"\n",
              "              title=\"Convert this dataframe to an interactive table.\"\n",
              "              style=\"display:none;\">\n",
              "        \n",
              "  <svg xmlns=\"http://www.w3.org/2000/svg\" height=\"24px\"viewBox=\"0 0 24 24\"\n",
              "       width=\"24px\">\n",
              "    <path d=\"M0 0h24v24H0V0z\" fill=\"none\"/>\n",
              "    <path d=\"M18.56 5.44l.94 2.06.94-2.06 2.06-.94-2.06-.94-.94-2.06-.94 2.06-2.06.94zm-11 1L8.5 8.5l.94-2.06 2.06-.94-2.06-.94L8.5 2.5l-.94 2.06-2.06.94zm10 10l.94 2.06.94-2.06 2.06-.94-2.06-.94-.94-2.06-.94 2.06-2.06.94z\"/><path d=\"M17.41 7.96l-1.37-1.37c-.4-.4-.92-.59-1.43-.59-.52 0-1.04.2-1.43.59L10.3 9.45l-7.72 7.72c-.78.78-.78 2.05 0 2.83L4 21.41c.39.39.9.59 1.41.59.51 0 1.02-.2 1.41-.59l7.78-7.78 2.81-2.81c.8-.78.8-2.07 0-2.86zM5.41 20L4 18.59l7.72-7.72 1.47 1.35L5.41 20z\"/>\n",
              "  </svg>\n",
              "      </button>\n",
              "      \n",
              "  <style>\n",
              "    .colab-df-container {\n",
              "      display:flex;\n",
              "      flex-wrap:wrap;\n",
              "      gap: 12px;\n",
              "    }\n",
              "\n",
              "    .colab-df-convert {\n",
              "      background-color: #E8F0FE;\n",
              "      border: none;\n",
              "      border-radius: 50%;\n",
              "      cursor: pointer;\n",
              "      display: none;\n",
              "      fill: #1967D2;\n",
              "      height: 32px;\n",
              "      padding: 0 0 0 0;\n",
              "      width: 32px;\n",
              "    }\n",
              "\n",
              "    .colab-df-convert:hover {\n",
              "      background-color: #E2EBFA;\n",
              "      box-shadow: 0px 1px 2px rgba(60, 64, 67, 0.3), 0px 1px 3px 1px rgba(60, 64, 67, 0.15);\n",
              "      fill: #174EA6;\n",
              "    }\n",
              "\n",
              "    [theme=dark] .colab-df-convert {\n",
              "      background-color: #3B4455;\n",
              "      fill: #D2E3FC;\n",
              "    }\n",
              "\n",
              "    [theme=dark] .colab-df-convert:hover {\n",
              "      background-color: #434B5C;\n",
              "      box-shadow: 0px 1px 3px 1px rgba(0, 0, 0, 0.15);\n",
              "      filter: drop-shadow(0px 1px 2px rgba(0, 0, 0, 0.3));\n",
              "      fill: #FFFFFF;\n",
              "    }\n",
              "  </style>\n",
              "\n",
              "      <script>\n",
              "        const buttonEl =\n",
              "          document.querySelector('#df-d9112b22-60f0-46bd-8210-598bb4c62d90 button.colab-df-convert');\n",
              "        buttonEl.style.display =\n",
              "          google.colab.kernel.accessAllowed ? 'block' : 'none';\n",
              "\n",
              "        async function convertToInteractive(key) {\n",
              "          const element = document.querySelector('#df-d9112b22-60f0-46bd-8210-598bb4c62d90');\n",
              "          const dataTable =\n",
              "            await google.colab.kernel.invokeFunction('convertToInteractive',\n",
              "                                                     [key], {});\n",
              "          if (!dataTable) return;\n",
              "\n",
              "          const docLinkHtml = 'Like what you see? Visit the ' +\n",
              "            '<a target=\"_blank\" href=https://colab.research.google.com/notebooks/data_table.ipynb>data table notebook</a>'\n",
              "            + ' to learn more about interactive tables.';\n",
              "          element.innerHTML = '';\n",
              "          dataTable['output_type'] = 'display_data';\n",
              "          await google.colab.output.renderOutput(dataTable, element);\n",
              "          const docLink = document.createElement('div');\n",
              "          docLink.innerHTML = docLinkHtml;\n",
              "          element.appendChild(docLink);\n",
              "        }\n",
              "      </script>\n",
              "    </div>\n",
              "  </div>\n",
              "  "
            ]
          },
          "metadata": {},
          "execution_count": 83
        }
      ]
    }
  ]
}